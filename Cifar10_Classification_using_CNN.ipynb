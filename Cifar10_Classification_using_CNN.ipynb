{
  "nbformat": 4,
  "nbformat_minor": 0,
  "metadata": {
    "colab": {
      "name": "Cifar10_Classification_using_CNN.ipynb",
      "provenance": [],
      "authorship_tag": "ABX9TyPiFJfLQo2Rm9QXPExHIX88",
      "include_colab_link": true
    },
    "kernelspec": {
      "name": "python3",
      "display_name": "Python 3"
    },
    "accelerator": "GPU"
  },
  "cells": [
    {
      "cell_type": "markdown",
      "metadata": {
        "id": "view-in-github",
        "colab_type": "text"
      },
      "source": [
        "<a href=\"https://colab.research.google.com/github/aqafridi/DeepLearning/blob/main/Cifar10_Classification_using_CNN.ipynb\" target=\"_parent\"><img src=\"https://colab.research.google.com/assets/colab-badge.svg\" alt=\"Open In Colab\"/></a>"
      ]
    },
    {
      "cell_type": "code",
      "metadata": {
        "id": "ydM7iFzk5Bo0"
      },
      "source": [
        "import numpy as np\r\n",
        "import matplotlib.pyplot as plt\r\n",
        "from tensorflow.keras.datasets import cifar10\r\n",
        "from tensorflow.keras.models import Sequential\r\n",
        "from tensorflow.keras.layers import Dropout\r\n",
        "from tensorflow.keras.layers import Conv2D\r\n",
        "from tensorflow.keras.layers import MaxPooling2D\r\n",
        "from tensorflow.keras.layers import Flatten\r\n",
        "from tensorflow.keras.layers import Dense\r\n",
        "from tensorflow.keras.optimizers import Adam\r\n",
        "from tensorflow.keras.models import Model"
      ],
      "execution_count": 35,
      "outputs": []
    },
    {
      "cell_type": "markdown",
      "metadata": {
        "id": "noCf7HFU5tBT"
      },
      "source": [
        "#Loading Data\r\n",
        "**load data to training set and testing set**"
      ]
    },
    {
      "cell_type": "code",
      "metadata": {
        "id": "j3hp1QsH5GlW"
      },
      "source": [
        "(x_train, y_train), (x_test, y_test) = cifar10.load_data()"
      ],
      "execution_count": 36,
      "outputs": []
    },
    {
      "cell_type": "markdown",
      "metadata": {
        "id": "wIZnmBGg7eH5"
      },
      "source": [
        "#checking size"
      ]
    },
    {
      "cell_type": "code",
      "metadata": {
        "colab": {
          "base_uri": "https://localhost:8080/"
        },
        "id": "2e4b02Fs5XcW",
        "outputId": "4b81a561-c030-4961-ae20-9fc2dc745463"
      },
      "source": [
        "print('x_train shape:  '+ str(x_train.shape))\r\n",
        "print('x_test shape: '+ str(x_test.shape))\r\n",
        "print('y_train shape: '+ str(y_train.shape[0]))\r\n",
        "print('x_test shape: '+ str(x_test.shape[0]))"
      ],
      "execution_count": 37,
      "outputs": [
        {
          "output_type": "stream",
          "text": [
            "x_train shape:  (50000, 32, 32, 3)\n",
            "x_test shape: (10000, 32, 32, 3)\n",
            "y_train shape: 50000\n",
            "x_test shape: 10000\n"
          ],
          "name": "stdout"
        }
      ]
    },
    {
      "cell_type": "markdown",
      "metadata": {
        "id": "pd3Bwu7a7rhw"
      },
      "source": [
        "#normalizing data\r\n"
      ]
    },
    {
      "cell_type": "code",
      "metadata": {
        "colab": {
          "base_uri": "https://localhost:8080/"
        },
        "id": "hu5qd-5o6j69",
        "outputId": "904fb720-4977-4ca8-ac28-cbf599f20d31"
      },
      "source": [
        "x_train, x_test = x_train / 255, x_test / 255\r\n",
        "y_train = y_train.flatten();y_test = y_test.flatten()\r\n",
        "print('x_train shape:  '+ str(x_train.shape))\r\n",
        "print('x_test shape: '+ str(x_test.shape))"
      ],
      "execution_count": 38,
      "outputs": [
        {
          "output_type": "stream",
          "text": [
            "x_train shape:  (50000, 32, 32, 3)\n",
            "x_test shape: (10000, 32, 32, 3)\n"
          ],
          "name": "stdout"
        }
      ]
    },
    {
      "cell_type": "markdown",
      "metadata": {
        "id": "CyFNpaNI8484"
      },
      "source": [
        "#Classes for model"
      ]
    },
    {
      "cell_type": "code",
      "metadata": {
        "colab": {
          "base_uri": "https://localhost:8080/"
        },
        "id": "B3bJm_ha8aKE",
        "outputId": "d615c5a6-c3d7-4315-8e72-b8c0480ea0b3"
      },
      "source": [
        "classes = len(set(y_train))\r\n",
        "print(classes)"
      ],
      "execution_count": 39,
      "outputs": [
        {
          "output_type": "stream",
          "text": [
            "10\n"
          ],
          "name": "stdout"
        }
      ]
    },
    {
      "cell_type": "markdown",
      "metadata": {
        "id": "y-tccLt1-O1v"
      },
      "source": [
        "#building Model for CNN"
      ]
    },
    {
      "cell_type": "code",
      "metadata": {
        "id": "8T3YgXIT9HSL"
      },
      "source": [
        "model = Sequential([\r\n",
        "    Conv2D(filters=32,kernel_size=(3,3),input_shape=(32,32,3),activation='relu'),\r\n",
        "\r\n",
        "    Conv2D(filters=64,kernel_size=(3,3),input_shape=(32,32,3),activation='relu'),\r\n",
        "\r\n",
        "    Conv2D(filters=128,kernel_size=(3,3),input_shape=(32,32,3),activation='relu'),\r\n",
        "\r\n",
        "    Flatten(),\r\n",
        "\r\n",
        "    Dropout(0.5),\r\n",
        "\r\n",
        "    Dense(units=1024,activation='relu'),\r\n",
        "\r\n",
        "    Dropout(0.5),\r\n",
        "\r\n",
        "    Dense(units=classes,activation='softmax')\r\n",
        "\r\n",
        "    ])\r\n",
        "model.compile(optimizer='adam',loss='sparse_categorical_crossentropy',metrics=['accuracy'])\r\n"
      ],
      "execution_count": 71,
      "outputs": []
    },
    {
      "cell_type": "code",
      "metadata": {
        "colab": {
          "base_uri": "https://localhost:8080/"
        },
        "id": "eNpz0QFDDoPu",
        "outputId": "39630e7a-a35d-42f5-838d-949f2fe529a0"
      },
      "source": [
        "print(model.summary())"
      ],
      "execution_count": 72,
      "outputs": [
        {
          "output_type": "stream",
          "text": [
            "Model: \"sequential_7\"\n",
            "_________________________________________________________________\n",
            "Layer (type)                 Output Shape              Param #   \n",
            "=================================================================\n",
            "conv2d_27 (Conv2D)           (None, 30, 30, 32)        896       \n",
            "_________________________________________________________________\n",
            "conv2d_28 (Conv2D)           (None, 28, 28, 64)        18496     \n",
            "_________________________________________________________________\n",
            "conv2d_29 (Conv2D)           (None, 26, 26, 128)       73856     \n",
            "_________________________________________________________________\n",
            "flatten_9 (Flatten)          (None, 86528)             0         \n",
            "_________________________________________________________________\n",
            "dropout_15 (Dropout)         (None, 86528)             0         \n",
            "_________________________________________________________________\n",
            "dense_17 (Dense)             (None, 1024)              88605696  \n",
            "_________________________________________________________________\n",
            "dropout_16 (Dropout)         (None, 1024)              0         \n",
            "_________________________________________________________________\n",
            "dense_18 (Dense)             (None, 10)                10250     \n",
            "=================================================================\n",
            "Total params: 88,709,194\n",
            "Trainable params: 88,709,194\n",
            "Non-trainable params: 0\n",
            "_________________________________________________________________\n",
            "None\n"
          ],
          "name": "stdout"
        }
      ]
    },
    {
      "cell_type": "code",
      "metadata": {
        "id": "NS0uvqzMCLDf"
      },
      "source": [
        "num_epochs=20"
      ],
      "execution_count": 73,
      "outputs": []
    },
    {
      "cell_type": "code",
      "metadata": {
        "colab": {
          "base_uri": "https://localhost:8080/"
        },
        "id": "62d1HrMbADch",
        "outputId": "65d2f011-849d-4110-d940-f7e2a7d140c1"
      },
      "source": [
        "result= model.fit(x_train, y_train,validation_data=(x_test, y_test),epochs=num_epochs)"
      ],
      "execution_count": 74,
      "outputs": [
        {
          "output_type": "stream",
          "text": [
            "Epoch 1/20\n",
            "1563/1563 [==============================] - 42s 26ms/step - loss: 1.7119 - accuracy: 0.3809 - val_loss: 1.1649 - val_accuracy: 0.5810\n",
            "Epoch 2/20\n",
            "1563/1563 [==============================] - 41s 26ms/step - loss: 1.1205 - accuracy: 0.6028 - val_loss: 0.9470 - val_accuracy: 0.6670\n",
            "Epoch 3/20\n",
            "1563/1563 [==============================] - 41s 26ms/step - loss: 0.8993 - accuracy: 0.6862 - val_loss: 0.8960 - val_accuracy: 0.6876\n",
            "Epoch 4/20\n",
            "1563/1563 [==============================] - 41s 26ms/step - loss: 0.7163 - accuracy: 0.7490 - val_loss: 0.8553 - val_accuracy: 0.7087\n",
            "Epoch 5/20\n",
            "1563/1563 [==============================] - 41s 26ms/step - loss: 0.5708 - accuracy: 0.8044 - val_loss: 0.9279 - val_accuracy: 0.6933\n",
            "Epoch 6/20\n",
            "1563/1563 [==============================] - 41s 26ms/step - loss: 0.4502 - accuracy: 0.8428 - val_loss: 0.9865 - val_accuracy: 0.7005\n",
            "Epoch 7/20\n",
            "1563/1563 [==============================] - 41s 26ms/step - loss: 0.3560 - accuracy: 0.8770 - val_loss: 0.9634 - val_accuracy: 0.7102\n",
            "Epoch 8/20\n",
            "1563/1563 [==============================] - 41s 26ms/step - loss: 0.2975 - accuracy: 0.8992 - val_loss: 1.0128 - val_accuracy: 0.7041\n",
            "Epoch 9/20\n",
            "1563/1563 [==============================] - 41s 26ms/step - loss: 0.2605 - accuracy: 0.9136 - val_loss: 1.0384 - val_accuracy: 0.7049\n",
            "Epoch 10/20\n",
            "1563/1563 [==============================] - 41s 26ms/step - loss: 0.2403 - accuracy: 0.9186 - val_loss: 1.1103 - val_accuracy: 0.7011\n",
            "Epoch 11/20\n",
            "1563/1563 [==============================] - 41s 26ms/step - loss: 0.2117 - accuracy: 0.9301 - val_loss: 1.0791 - val_accuracy: 0.6993\n",
            "Epoch 12/20\n",
            "1563/1563 [==============================] - 41s 27ms/step - loss: 0.1996 - accuracy: 0.9341 - val_loss: 1.2198 - val_accuracy: 0.7109\n",
            "Epoch 13/20\n",
            "1563/1563 [==============================] - 41s 26ms/step - loss: 0.1880 - accuracy: 0.9386 - val_loss: 1.2597 - val_accuracy: 0.7106\n",
            "Epoch 14/20\n",
            "1563/1563 [==============================] - 41s 26ms/step - loss: 0.1716 - accuracy: 0.9438 - val_loss: 1.2952 - val_accuracy: 0.7063\n",
            "Epoch 15/20\n",
            "1563/1563 [==============================] - 41s 26ms/step - loss: 0.1757 - accuracy: 0.9441 - val_loss: 1.5152 - val_accuracy: 0.7082\n",
            "Epoch 16/20\n",
            "1563/1563 [==============================] - 41s 26ms/step - loss: 0.1583 - accuracy: 0.9497 - val_loss: 1.5500 - val_accuracy: 0.7058\n",
            "Epoch 17/20\n",
            "1563/1563 [==============================] - 41s 26ms/step - loss: 0.1566 - accuracy: 0.9507 - val_loss: 1.2392 - val_accuracy: 0.7170\n",
            "Epoch 18/20\n",
            "1563/1563 [==============================] - 41s 26ms/step - loss: 0.1532 - accuracy: 0.9523 - val_loss: 1.4329 - val_accuracy: 0.7140\n",
            "Epoch 19/20\n",
            "1563/1563 [==============================] - 41s 26ms/step - loss: 0.1526 - accuracy: 0.9538 - val_loss: 1.1894 - val_accuracy: 0.7143\n",
            "Epoch 20/20\n",
            "1563/1563 [==============================] - 41s 26ms/step - loss: 0.1536 - accuracy: 0.9525 - val_loss: 1.4701 - val_accuracy: 0.7223\n"
          ],
          "name": "stdout"
        }
      ]
    },
    {
      "cell_type": "markdown",
      "metadata": {
        "id": "NhK7s7v0DHAE"
      },
      "source": [
        "#Plot the loss"
      ]
    },
    {
      "cell_type": "code",
      "metadata": {
        "colab": {
          "base_uri": "https://localhost:8080/",
          "height": 313
        },
        "id": "u8m7Fz5dBRzl",
        "outputId": "fc69d8a2-678f-4c98-d764-9a62782de4c7"
      },
      "source": [
        "plt.plot(result.history['loss'], label='loss')\r\n",
        "plt.plot(result.history['val_loss'], label='loval_lossss')\r\n",
        "plt.title(\"Loss and Validation Loss vs. Epoch\")\r\n",
        "plt.ylabel('Loss')\r\n",
        "plt.xlabel('Epoch')"
      ],
      "execution_count": 75,
      "outputs": [
        {
          "output_type": "execute_result",
          "data": {
            "text/plain": [
              "Text(0.5, 0, 'Epoch')"
            ]
          },
          "metadata": {
            "tags": []
          },
          "execution_count": 75
        },
        {
          "output_type": "display_data",
          "data": {
            "image/png": "[encoded data removed]",
            "text/plain": [
              "<Figure size 432x288 with 1 Axes>"
            ]
          },
          "metadata": {
            "tags": [],
            "needs_background": "light"
          }
        }
      ]
    },
    {
      "cell_type": "markdown",
      "metadata": {
        "id": "VNFwbPTvDLOW"
      },
      "source": [
        "#Plot the accuracy"
      ]
    },
    {
      "cell_type": "code",
      "metadata": {
        "colab": {
          "base_uri": "https://localhost:8080/",
          "height": 313
        },
        "id": "yE5QBbuIC_BO",
        "outputId": "c6e2161a-5564-4fa8-d013-10763b99f92e"
      },
      "source": [
        "# Plot the accuracy\r\n",
        "plt.plot(result.history['accuracy'], label='accuracy')\r\n",
        "plt.plot(result.history['val_accuracy'], label='val_accuracy')\r\n",
        "plt.title(\"Accuracy and Validation Accuracy vs. Epoch\")\r\n",
        "plt.ylabel('Accuracy')\r\n",
        "plt.xlabel('Epoch')"
      ],
      "execution_count": 76,
      "outputs": [
        {
          "output_type": "execute_result",
          "data": {
            "text/plain": [
              "Text(0.5, 0, 'Epoch')"
            ]
          },
          "metadata": {
            "tags": []
          },
          "execution_count": 76
        },
        {
          "output_type": "display_data",
          "data": {
            "image/png": "[encoded data removed]",
            "text/plain": [
              "<Figure size 432x288 with 1 Axes>"
            ]
          },
          "metadata": {
            "tags": [],
            "needs_background": "light"
          }
        }
      ]
    },
    {
      "cell_type": "markdown",
      "metadata": {
        "id": "1IOasGN4ECaz"
      },
      "source": [
        "#Plot confusion matrix"
      ]
    },
    {
      "cell_type": "code",
      "metadata": {
        "colab": {
          "base_uri": "https://localhost:8080/",
          "height": 313
        },
        "id": "0ZEmgI6mDa_9",
        "outputId": "6846690c-848a-49ae-abd0-15b156ade696"
      },
      "source": [
        "from sklearn.metrics import confusion_matrix\r\n",
        "\r\n",
        "predictions = model.predict(x_test).argmax(axis=1) # Need to take argmax to get class number with highest probability for each sample\r\n",
        "colormap = confusion_matrix(y_test, predictions)\r\n",
        "import seaborn as sns\r\n",
        "ax = sns.heatmap(colormap, annot=True, fmt='d', cmap='Greens')\r\n",
        "ax.set_title(\"Unnormalized Confusion Matrix\")\r\n",
        "ax.set_xlabel(\"Predicted Label\")\r\n",
        "ax.set_ylabel(\"True Label\")"
      ],
      "execution_count": 77,
      "outputs": [
        {
          "output_type": "execute_result",
          "data": {
            "text/plain": [
              "Text(33.0, 0.5, 'True Label')"
            ]
          },
          "metadata": {
            "tags": []
          },
          "execution_count": 77
        },
        {
          "output_type": "display_data",
          "data": {
            "image/png": "[encoded data removed]",
            "text/plain": [
              "<Figure size 432x288 with 2 Axes>"
            ]
          },
          "metadata": {
            "tags": [],
            "needs_background": "light"
          }
        }
      ]
    },
    {
      "cell_type": "markdown",
      "metadata": {
        "id": "nP8fewtREHAa"
      },
      "source": [
        "\r\n",
        "# label mapping"
      ]
    },
    {
      "cell_type": "code",
      "metadata": {
        "id": "FGR6FaSuD5BW"
      },
      "source": [
        "labels = '''airplane\r\n",
        "automobile\r\n",
        "bird\r\n",
        "cat\r\n",
        "deer\r\n",
        "dog\r\n",
        "frog\r\n",
        "horse\r\n",
        "ship\r\n",
        "truck'''.split()"
      ],
      "execution_count": 78,
      "outputs": []
    },
    {
      "cell_type": "code",
      "metadata": {
        "id": "bVUxlcCMEk2b"
      },
      "source": [
        ""
      ],
      "execution_count": null,
      "outputs": []
    }
  ]
}