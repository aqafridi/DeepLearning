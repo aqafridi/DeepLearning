{
  "nbformat": 4,
  "nbformat_minor": 0,
  "metadata": {
    "colab": {
      "name": "2.Neural_Networks_in_python_from_scratch.ipynb",
      "provenance": [],
      "authorship_tag": "ABX9TyPzjb0+Q8T09JvdXVr0JeGH",
      "include_colab_link": true
    },
    "kernelspec": {
      "name": "python3",
      "display_name": "Python 3"
    },
    "accelerator": "GPU"
  },
  "cells": [
    {
      "cell_type": "markdown",
      "metadata": {
        "id": "view-in-github",
        "colab_type": "text"
      },
      "source": [
        "<a href=\"https://colab.research.google.com/github/aqafridi/DeepLearning/blob/main/2_Neural_Networks_in_python_from_scratch.ipynb\" target=\"_parent\"><img src=\"https://colab.research.google.com/assets/colab-badge.svg\" alt=\"Open In Colab\"/></a>"
      ]
    },
    {
      "cell_type": "code",
      "metadata": {
        "id": "NnuzG99e7UCO"
      },
      "source": [
        "from sklearn.datasets import fetch_openml\r\n",
        "mnist = fetch_openml('mnist_784')\r\n",
        "X, y = mnist[\"data\"], mnist[\"target\"]"
      ],
      "execution_count": 1,
      "outputs": []
    },
    {
      "cell_type": "code",
      "metadata": {
        "id": "Pn0sZiC17s8F"
      },
      "source": [
        "X = X / 255"
      ],
      "execution_count": 2,
      "outputs": []
    },
    {
      "cell_type": "code",
      "metadata": {
        "id": "Imct2OD_8CHh"
      },
      "source": [
        "import numpy as np\r\n",
        "\r\n",
        "y_new = np.zeros(y.shape)\r\n",
        "y_new[np.where(y == 0.0)[0]] = 1\r\n",
        "y = y_new"
      ],
      "execution_count": 3,
      "outputs": []
    },
    {
      "cell_type": "code",
      "metadata": {
        "id": "oAbqFl6o8FeK"
      },
      "source": [
        "m = 60000\r\n",
        "m_test = X.shape[0] - m\r\n",
        "\r\n",
        "X_train, X_test = X[:m].T, X[m:].T\r\n",
        "y_train, y_test = y[:m].reshape(1,m), y[m:].reshape(1,m_test)"
      ],
      "execution_count": 4,
      "outputs": []
    },
    {
      "cell_type": "code",
      "metadata": {
        "id": "DAI4Cd788IdH"
      },
      "source": [
        "np.random.seed(138)\r\n",
        "shuffle_index = np.random.permutation(m)\r\n",
        "X_train, y_train = X_train[:,shuffle_index], y_train[:,shuffle_index]"
      ],
      "execution_count": 5,
      "outputs": []
    },
    {
      "cell_type": "code",
      "metadata": {
        "colab": {
          "base_uri": "https://localhost:8080/",
          "height": 265
        },
        "id": "baoxUH2Q8LzI",
        "outputId": "a6168bd2-dadd-4b8d-e466-e2e418b6406a"
      },
      "source": [
        "%matplotlib inline\r\n",
        "import matplotlib\r\n",
        "import matplotlib.pyplot as plt\r\n",
        "\r\n",
        "i = 3\r\n",
        "plt.imshow(X_train[:,i].reshape(28,28), cmap = matplotlib.cm.binary)\r\n",
        "plt.axis(\"off\")\r\n",
        "plt.show()\r\n",
        "print(y_train[:,i])"
      ],
      "execution_count": 6,
      "outputs": [
        {
          "output_type": "display_data",
          "data": {
            "image/png": "[encoded data removed]",
            "text/plain": [
              "<Figure size 432x288 with 1 Axes>"
            ]
          },
          "metadata": {
            "tags": [],
            "needs_background": "light"
          }
        },
        {
          "output_type": "stream",
          "text": [
            "[0.]\n"
          ],
          "name": "stdout"
        }
      ]
    },
    {
      "cell_type": "code",
      "metadata": {
        "id": "ybZsNK9N8OtT"
      },
      "source": [
        "def sigmoid(z):\r\n",
        "    s = 1 / (1 + np.exp(-z))\r\n",
        "    return s"
      ],
      "execution_count": 7,
      "outputs": []
    },
    {
      "cell_type": "code",
      "metadata": {
        "id": "XzbIDTFq8ZJZ"
      },
      "source": [
        "def compute_loss(Y, Y_hat):\r\n",
        "\r\n",
        "    m = Y.shape[1]\r\n",
        "    L = -(1./m) * ( np.sum( np.multiply(np.log(Y_hat),Y) ) + np.sum( np.multiply(np.log(1-Y_hat),(1-Y)) ) )\r\n",
        "\r\n",
        "    return L"
      ],
      "execution_count": 8,
      "outputs": []
    },
    {
      "cell_type": "code",
      "metadata": {
        "colab": {
          "base_uri": "https://localhost:8080/"
        },
        "id": "9wo5ctCG8cLd",
        "outputId": "b15e40b8-f14b-4e23-aa13-0422ad036378"
      },
      "source": [
        "learning_rate = 1\r\n",
        "\r\n",
        "X = X_train\r\n",
        "Y = y_train\r\n",
        "\r\n",
        "n_x = X.shape[0]\r\n",
        "m = X.shape[1]\r\n",
        "\r\n",
        "W = np.random.randn(n_x, 1) * 0.01\r\n",
        "b = np.zeros((1, 1))\r\n",
        "\r\n",
        "for i in range(2000):\r\n",
        "    Z = np.matmul(W.T, X) + b\r\n",
        "    A = sigmoid(Z)\r\n",
        "\r\n",
        "    cost = compute_loss(Y, A)\r\n",
        "\r\n",
        "    dW = (1/m) * np.matmul(X, (A-Y).T)\r\n",
        "    db = (1/m) * np.sum(A-Y, axis=1, keepdims=True)\r\n",
        "\r\n",
        "    W = W - learning_rate * dW\r\n",
        "    b = b - learning_rate * db\r\n",
        "\r\n",
        "    if (i % 100 == 0):\r\n",
        "        print(\"Epoch\", i, \"cost: \", cost)\r\n",
        "\r\n",
        "print(\"Final cost:\", cost)"
      ],
      "execution_count": 9,
      "outputs": [
        {
          "output_type": "stream",
          "text": [
            "Epoch 0 cost:  0.6780408776417199\n",
            "Epoch 100 cost:  1.7077023217932543e-05\n",
            "Epoch 200 cost:  1.678816031514579e-05\n",
            "Epoch 300 cost:  1.6509651885653094e-05\n",
            "Epoch 400 cost:  1.624093606712164e-05\n",
            "Epoch 500 cost:  1.5981491451608248e-05\n",
            "Epoch 600 cost:  1.5730833482190265e-05\n",
            "Epoch 700 cost:  1.5488511229804456e-05\n",
            "Epoch 800 cost:  1.5254104504150423e-05\n",
            "Epoch 900 cost:  1.502722125881756e-05\n",
            "Epoch 1000 cost:  1.480749525615643e-05\n",
            "Epoch 1100 cost:  1.4594583961953168e-05\n",
            "Epoch 1200 cost:  1.4388166643867823e-05\n",
            "Epoch 1300 cost:  1.418794265091873e-05\n",
            "Epoch 1400 cost:  1.3993629854148793e-05\n",
            "Epoch 1500 cost:  1.3804963231070123e-05\n",
            "Epoch 1600 cost:  1.3621693578608523e-05\n",
            "Epoch 1700 cost:  1.3443586341087414e-05\n",
            "Epoch 1800 cost:  1.3270420541402634e-05\n",
            "Epoch 1900 cost:  1.3101987804895002e-05\n",
            "Final cost: 1.293970859349459e-05\n"
          ],
          "name": "stdout"
        }
      ]
    },
    {
      "cell_type": "code",
      "metadata": {
        "colab": {
          "base_uri": "https://localhost:8080/"
        },
        "id": "yQdZHjda8jgH",
        "outputId": "bcef274e-a8be-489d-f90d-f5fe5e008df5"
      },
      "source": [
        "from sklearn.metrics import classification_report, confusion_matrix\r\n",
        "\r\n",
        "Z = np.matmul(W.T, X_test) + b\r\n",
        "A = sigmoid(Z)\r\n",
        "\r\n",
        "predictions = (A>.5)[0,:]\r\n",
        "labels = (y_test == 1)[0,:]\r\n",
        "\r\n",
        "print(confusion_matrix(predictions, labels))"
      ],
      "execution_count": 10,
      "outputs": [
        {
          "output_type": "stream",
          "text": [
            "[[10000]]\n"
          ],
          "name": "stdout"
        }
      ]
    },
    {
      "cell_type": "code",
      "metadata": {
        "colab": {
          "base_uri": "https://localhost:8080/"
        },
        "id": "jLSmCPdX8qY0",
        "outputId": "a1551001-3b1d-41cf-f1aa-d2cd256ed3b8"
      },
      "source": [
        "print(classification_report(predictions, labels))"
      ],
      "execution_count": 11,
      "outputs": [
        {
          "output_type": "stream",
          "text": [
            "              precision    recall  f1-score   support\n",
            "\n",
            "       False       1.00      1.00      1.00     10000\n",
            "\n",
            "    accuracy                           1.00     10000\n",
            "   macro avg       1.00      1.00      1.00     10000\n",
            "weighted avg       1.00      1.00      1.00     10000\n",
            "\n"
          ],
          "name": "stdout"
        }
      ]
    },
    {
      "cell_type": "markdown",
      "metadata": {
        "id": "O4oSEk6q82XC"
      },
      "source": [
        "#One Hidden Layer"
      ]
    },
    {
      "cell_type": "code",
      "metadata": {
        "colab": {
          "base_uri": "https://localhost:8080/",
          "height": 323
        },
        "id": "043CT2G_8td2",
        "outputId": "99108187-5379-4849-c0c5-49e68d868707"
      },
      "source": [
        "X = X_train\r\n",
        "Y = y_train\r\n",
        "\r\n",
        "n_x = X.shape[0]\r\n",
        "n_h = 64\r\n",
        "learning_rate = 1\r\n",
        "\r\n",
        "W1 = np.random.randn(n_h, n_x)\r\n",
        "b1 = np.zeros((n_h, 1))\r\n",
        "W2 = np.random.randn(1, n_h)\r\n",
        "b2 = np.zeros((1, 1))\r\n",
        "\r\n",
        "for i in range(2000):\r\n",
        "\r\n",
        "    Z1 = np.matmul(W1, X) + b1\r\n",
        "    A1 = sigmoid(Z1)\r\n",
        "    Z2 = np.matmul(W2, A1) + b2\r\n",
        "    A2 = sigmoid(Z2)\r\n",
        "\r\n",
        "    cost = compute_loss(Y, A2)\r\n",
        "\r\n",
        "    dZ2 = A2-Y\r\n",
        "    dW2 = (1./m) * np.matmul(dZ2, A1.T)\r\n",
        "    db2 = (1./m) * np.sum(dZ2, axis=1, keepdims=True)\r\n",
        "\r\n",
        "    dA1 = np.matmul(W2.T, dZ2)\r\n",
        "    dZ1 = dA1 * sigmoid(Z1) * (1 - sigmoid(Z1))\r\n",
        "    dW1 = (1./m) * np.matmul(dZ1, X.T)\r\n",
        "    db1 = (1./m) * np.sum(dZ1, axis=1, keepdims=True)\r\n",
        "\r\n",
        "    W2 = W2 - learning_rate * dW2\r\n",
        "    b2 = b2 - learning_rate * db2\r\n",
        "    W1 = W1 - learning_rate * dW1\r\n",
        "    b1 = b1 - learning_rate * db1\r\n",
        "\r\n",
        "    if i % 100 == 0:\r\n",
        "        print(\"Epoch\", i, \"cost: \", cost)\r\n",
        "\r\n",
        "print(\"Final cost:\", cost)"
      ],
      "execution_count": 12,
      "outputs": [
        {
          "output_type": "stream",
          "text": [
            "Epoch 0 cost:  0.7005409394286998\n",
            "Epoch 100 cost:  0.00028604724862105164\n",
            "Epoch 200 cost:  0.00017233856457198892\n",
            "Epoch 300 cost:  0.00012320649342163303\n",
            "Epoch 400 cost:  9.585050851141288e-05\n"
          ],
          "name": "stdout"
        },
        {
          "output_type": "error",
          "ename": "KeyboardInterrupt",
          "evalue": "ignored",
          "traceback": [
            "\u001b[0;31m---------------------------------------------------------------------------\u001b[0m",
            "\u001b[0;31mKeyboardInterrupt\u001b[0m                         Traceback (most recent call last)",
            "\u001b[0;32m<ipython-input-12-8695918aaf8f>\u001b[0m in \u001b[0;36m<module>\u001b[0;34m()\u001b[0m\n\u001b[1;32m     26\u001b[0m     \u001b[0mdA1\u001b[0m \u001b[0;34m=\u001b[0m \u001b[0mnp\u001b[0m\u001b[0;34m.\u001b[0m\u001b[0mmatmul\u001b[0m\u001b[0;34m(\u001b[0m\u001b[0mW2\u001b[0m\u001b[0;34m.\u001b[0m\u001b[0mT\u001b[0m\u001b[0;34m,\u001b[0m \u001b[0mdZ2\u001b[0m\u001b[0;34m)\u001b[0m\u001b[0;34m\u001b[0m\u001b[0;34m\u001b[0m\u001b[0m\n\u001b[1;32m     27\u001b[0m     \u001b[0mdZ1\u001b[0m \u001b[0;34m=\u001b[0m \u001b[0mdA1\u001b[0m \u001b[0;34m*\u001b[0m \u001b[0msigmoid\u001b[0m\u001b[0;34m(\u001b[0m\u001b[0mZ1\u001b[0m\u001b[0;34m)\u001b[0m \u001b[0;34m*\u001b[0m \u001b[0;34m(\u001b[0m\u001b[0;36m1\u001b[0m \u001b[0;34m-\u001b[0m \u001b[0msigmoid\u001b[0m\u001b[0;34m(\u001b[0m\u001b[0mZ1\u001b[0m\u001b[0;34m)\u001b[0m\u001b[0;34m)\u001b[0m\u001b[0;34m\u001b[0m\u001b[0;34m\u001b[0m\u001b[0m\n\u001b[0;32m---> 28\u001b[0;31m     \u001b[0mdW1\u001b[0m \u001b[0;34m=\u001b[0m \u001b[0;34m(\u001b[0m\u001b[0;36m1.\u001b[0m\u001b[0;34m/\u001b[0m\u001b[0mm\u001b[0m\u001b[0;34m)\u001b[0m \u001b[0;34m*\u001b[0m \u001b[0mnp\u001b[0m\u001b[0;34m.\u001b[0m\u001b[0mmatmul\u001b[0m\u001b[0;34m(\u001b[0m\u001b[0mdZ1\u001b[0m\u001b[0;34m,\u001b[0m \u001b[0mX\u001b[0m\u001b[0;34m.\u001b[0m\u001b[0mT\u001b[0m\u001b[0;34m)\u001b[0m\u001b[0;34m\u001b[0m\u001b[0;34m\u001b[0m\u001b[0m\n\u001b[0m\u001b[1;32m     29\u001b[0m     \u001b[0mdb1\u001b[0m \u001b[0;34m=\u001b[0m \u001b[0;34m(\u001b[0m\u001b[0;36m1.\u001b[0m\u001b[0;34m/\u001b[0m\u001b[0mm\u001b[0m\u001b[0;34m)\u001b[0m \u001b[0;34m*\u001b[0m \u001b[0mnp\u001b[0m\u001b[0;34m.\u001b[0m\u001b[0msum\u001b[0m\u001b[0;34m(\u001b[0m\u001b[0mdZ1\u001b[0m\u001b[0;34m,\u001b[0m \u001b[0maxis\u001b[0m\u001b[0;34m=\u001b[0m\u001b[0;36m1\u001b[0m\u001b[0;34m,\u001b[0m \u001b[0mkeepdims\u001b[0m\u001b[0;34m=\u001b[0m\u001b[0;32mTrue\u001b[0m\u001b[0;34m)\u001b[0m\u001b[0;34m\u001b[0m\u001b[0;34m\u001b[0m\u001b[0m\n\u001b[1;32m     30\u001b[0m \u001b[0;34m\u001b[0m\u001b[0m\n",
            "\u001b[0;31mKeyboardInterrupt\u001b[0m: "
          ]
        }
      ]
    },
    {
      "cell_type": "code",
      "metadata": {
        "id": "XwR7iDds9yo7",
        "outputId": "da36aea3-8d15-4e3d-82d6-c76d67d896af",
        "colab": {
          "base_uri": "https://localhost:8080/"
        }
      },
      "source": [
        "Z1 = np.matmul(W1, X_test) + b1\r\n",
        "A1 = sigmoid(Z1)\r\n",
        "Z2 = np.matmul(W2, A1) + b2\r\n",
        "A2 = sigmoid(Z2)\r\n",
        "\r\n",
        "predictions = (A2>.5)[0,:]\r\n",
        "labels = (y_test == 1)[0,:]\r\n",
        "\r\n",
        "print(confusion_matrix(predictions, labels))\r\n",
        "print(classification_report(predictions, labels))"
      ],
      "execution_count": 13,
      "outputs": [
        {
          "output_type": "stream",
          "text": [
            "[[10000]]\n",
            "              precision    recall  f1-score   support\n",
            "\n",
            "       False       1.00      1.00      1.00     10000\n",
            "\n",
            "    accuracy                           1.00     10000\n",
            "   macro avg       1.00      1.00      1.00     10000\n",
            "weighted avg       1.00      1.00      1.00     10000\n",
            "\n"
          ],
          "name": "stdout"
        }
      ]
    },
    {
      "cell_type": "markdown",
      "metadata": {
        "id": "zjVf2qdJ97tw"
      },
      "source": [
        "#Upgrading to Multiclass"
      ]
    },
    {
      "cell_type": "code",
      "metadata": {
        "id": "6D2ctE2G92Jw"
      },
      "source": [
        "from sklearn.datasets import fetch_openml\r\n",
        "mnist = fetch_openml('mnist_784')\r\n",
        "X, y = mnist[\"data\"], mnist[\"target\"]"
      ],
      "execution_count": null,
      "outputs": []
    },
    {
      "cell_type": "code",
      "metadata": {
        "id": "2DV1rxMZ-Xwj"
      },
      "source": [
        "digits = 10\r\n",
        "examples = y.shape[0]\r\n",
        "\r\n",
        "y = y.reshape(1, examples)\r\n",
        "\r\n",
        "Y_new = np.eye(digits)[y.astype('int32')]\r\n",
        "Y_new = Y_new.T.reshape(digits, examples)"
      ],
      "execution_count": null,
      "outputs": []
    },
    {
      "cell_type": "code",
      "metadata": {
        "id": "YyIFnhkc-afx"
      },
      "source": [
        "m = 60000\r\n",
        "m_test = X.shape[0] - m\r\n",
        "\r\n",
        "X_train, X_test = X[:m].T, X[m:].T\r\n",
        "Y_train, Y_test = Y_new[:,:m], Y_new[:,m:]\r\n",
        "\r\n",
        "shuffle_index = np.random.permutation(m)\r\n",
        "X_train, Y_train = X_train[:, shuffle_index], Y_train[:, shuffle_index]"
      ],
      "execution_count": null,
      "outputs": []
    },
    {
      "cell_type": "code",
      "metadata": {
        "id": "2pIs4F00-eo6"
      },
      "source": [
        "i = 12\r\n",
        "plt.imshow(X_train[:,i].reshape(28,28), cmap = matplotlib.cm.binary)\r\n",
        "plt.axis(\"off\")\r\n",
        "plt.show()\r\n",
        "Y_train[:,i]"
      ],
      "execution_count": null,
      "outputs": []
    },
    {
      "cell_type": "code",
      "metadata": {
        "id": "07brRoOE-hUp"
      },
      "source": [
        "def compute_multiclass_loss(Y, Y_hat):\r\n",
        "\r\n",
        "    L_sum = np.sum(np.multiply(Y, np.log(Y_hat)))\r\n",
        "    m = Y.shape[1]\r\n",
        "    L = -(1/m) * L_sum\r\n",
        "\r\n",
        "    return L"
      ],
      "execution_count": null,
      "outputs": []
    },
    {
      "cell_type": "markdown",
      "metadata": {
        "id": "hfBUGcGe-0ff"
      },
      "source": [
        "**Build & Train**"
      ]
    },
    {
      "cell_type": "code",
      "metadata": {
        "id": "ThnXiuJb-lCY"
      },
      "source": [
        "n_x = X_train.shape[0]\r\n",
        "n_h = 64\r\n",
        "learning_rate = 1\r\n",
        "\r\n",
        "W1 = np.random.randn(n_h, n_x)\r\n",
        "b1 = np.zeros((n_h, 1))\r\n",
        "W2 = np.random.randn(digits, n_h)\r\n",
        "b2 = np.zeros((digits, 1))\r\n",
        "\r\n",
        "X = X_train\r\n",
        "Y = Y_train\r\n",
        "\r\n",
        "for i in range(2000):\r\n",
        "\r\n",
        "    Z1 = np.matmul(W1,X) + b1\r\n",
        "    A1 = sigmoid(Z1)\r\n",
        "    Z2 = np.matmul(W2,A1) + b2\r\n",
        "    A2 = np.exp(Z2) / np.sum(np.exp(Z2), axis=0)\r\n",
        "\r\n",
        "    cost = compute_multiclass_loss(Y, A2)\r\n",
        "\r\n",
        "    dZ2 = A2-Y\r\n",
        "    dW2 = (1./m) * np.matmul(dZ2, A1.T)\r\n",
        "    db2 = (1./m) * np.sum(dZ2, axis=1, keepdims=True)\r\n",
        "\r\n",
        "    dA1 = np.matmul(W2.T, dZ2)\r\n",
        "    dZ1 = dA1 * sigmoid(Z1) * (1 - sigmoid(Z1))\r\n",
        "    dW1 = (1./m) * np.matmul(dZ1, X.T)\r\n",
        "    db1 = (1./m) * np.sum(dZ1, axis=1, keepdims=True)\r\n",
        "\r\n",
        "    W2 = W2 - learning_rate * dW2\r\n",
        "    b2 = b2 - learning_rate * db2\r\n",
        "    W1 = W1 - learning_rate * dW1\r\n",
        "    b1 = b1 - learning_rate * db1\r\n",
        "\r\n",
        "    if (i % 100 == 0):\r\n",
        "        print(\"Epoch\", i, \"cost: \", cost)\r\n",
        "\r\n",
        "print(\"Final cost:\", cost)"
      ],
      "execution_count": null,
      "outputs": []
    },
    {
      "cell_type": "code",
      "metadata": {
        "id": "NoFkru7K-pAj"
      },
      "source": [
        "Z1 = np.matmul(W1, X_test) + b1\r\n",
        "A1 = sigmoid(Z1)\r\n",
        "Z2 = np.matmul(W2, A1) + b2\r\n",
        "A2 = np.exp(Z2) / np.sum(np.exp(Z2), axis=0)\r\n",
        "\r\n",
        "predictions = np.argmax(A2, axis=0)\r\n",
        "labels = np.argmax(Y_test, axis=0)\r\n",
        "\r\n",
        "print(confusion_matrix(predictions, labels))\r\n",
        "print(classification_report(predictions, labels))"
      ],
      "execution_count": null,
      "outputs": []
    },
    {
      "cell_type": "code",
      "metadata": {
        "id": "uR6ZvLRN-sdy"
      },
      "source": [
        ""
      ],
      "execution_count": null,
      "outputs": []
    }
  ]
}