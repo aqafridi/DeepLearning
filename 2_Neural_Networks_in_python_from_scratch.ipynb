{
  "nbformat": 4,
  "nbformat_minor": 0,
  "metadata": {
    "colab": {
      "name": "2.Neural_Networks_in_python_from_scratch.ipynb",
      "provenance": [],
      "authorship_tag": "ABX9TyPa0NmTisImqoIRyqxS4T/N",
      "include_colab_link": true
    },
    "kernelspec": {
      "name": "python3",
      "display_name": "Python 3"
    },
    "accelerator": "GPU"
  },
  "cells": [
    {
      "cell_type": "markdown",
      "metadata": {
        "id": "view-in-github",
        "colab_type": "text"
      },
      "source": [
        "<a href=\"https://colab.research.google.com/github/aqafridi/DeepLearning/blob/main/2_Neural_Networks_in_python_from_scratch.ipynb\" target=\"_parent\"><img src=\"https://colab.research.google.com/assets/colab-badge.svg\" alt=\"Open In Colab\"/></a>"
      ]
    },
    {
      "cell_type": "code",
      "metadata": {
        "id": "NnuzG99e7UCO"
      },
      "source": [
        "from sklearn.datasets import fetch_openml\r\n",
        "mnist = fetch_openml('mnist_784')\r\n",
        "X, y = mnist[\"data\"], mnist[\"target\"]"
      ],
      "execution_count": 1,
      "outputs": []
    },
    {
      "cell_type": "code",
      "metadata": {
        "id": "Pn0sZiC17s8F"
      },
      "source": [
        "X = X / 255"
      ],
      "execution_count": 2,
      "outputs": []
    },
    {
      "cell_type": "code",
      "metadata": {
        "id": "Imct2OD_8CHh"
      },
      "source": [
        "import numpy as np\r\n",
        "\r\n",
        "y_new = np.zeros(y.shape)\r\n",
        "y_new[np.where(y == 0.0)[0]] = 1\r\n",
        "y = y_new"
      ],
      "execution_count": 3,
      "outputs": []
    },
    {
      "cell_type": "code",
      "metadata": {
        "id": "oAbqFl6o8FeK"
      },
      "source": [
        "m = 60000\r\n",
        "m_test = X.shape[0] - m\r\n",
        "\r\n",
        "X_train, X_test = X[:m].T, X[m:].T\r\n",
        "y_train, y_test = y[:m].reshape(1,m), y[m:].reshape(1,m_test)"
      ],
      "execution_count": 4,
      "outputs": []
    },
    {
      "cell_type": "code",
      "metadata": {
        "id": "DAI4Cd788IdH"
      },
      "source": [
        "np.random.seed(138)\r\n",
        "shuffle_index = np.random.permutation(m)\r\n",
        "X_train, y_train = X_train[:,shuffle_index], y_train[:,shuffle_index]"
      ],
      "execution_count": 5,
      "outputs": []
    },
    {
      "cell_type": "code",
      "metadata": {
        "colab": {
          "base_uri": "https://localhost:8080/",
          "height": 265
        },
        "id": "baoxUH2Q8LzI",
        "outputId": "a6168bd2-dadd-4b8d-e466-e2e418b6406a"
      },
      "source": [
        "%matplotlib inline\r\n",
        "import matplotlib\r\n",
        "import matplotlib.pyplot as plt\r\n",
        "\r\n",
        "i = 3\r\n",
        "plt.imshow(X_train[:,i].reshape(28,28), cmap = matplotlib.cm.binary)\r\n",
        "plt.axis(\"off\")\r\n",
        "plt.show()\r\n",
        "print(y_train[:,i])"
      ],
      "execution_count": 6,
      "outputs": [
        {
          "output_type": "display_data",
          "data": {
            "image/png": "[encoded data removed]",
            "text/plain": [
              "<Figure size 432x288 with 1 Axes>"
            ]
          },
          "metadata": {
            "tags": [],
            "needs_background": "light"
          }
        },
        {
          "output_type": "stream",
          "text": [
            "[0.]\n"
          ],
          "name": "stdout"
        }
      ]
    },
    {
      "cell_type": "code",
      "metadata": {
        "id": "ybZsNK9N8OtT"
      },
      "source": [
        "def sigmoid(z):\r\n",
        "    s = 1 / (1 + np.exp(-z))\r\n",
        "    return s"
      ],
      "execution_count": 7,
      "outputs": []
    },
    {
      "cell_type": "code",
      "metadata": {
        "id": "XzbIDTFq8ZJZ"
      },
      "source": [
        "def compute_loss(Y, Y_hat):\r\n",
        "\r\n",
        "    m = Y.shape[1]\r\n",
        "    L = -(1./m) * ( np.sum( np.multiply(np.log(Y_hat),Y) ) + np.sum( np.multiply(np.log(1-Y_hat),(1-Y)) ) )\r\n",
        "\r\n",
        "    return L"
      ],
      "execution_count": 8,
      "outputs": []
    },
    {
      "cell_type": "code",
      "metadata": {
        "colab": {
          "base_uri": "https://localhost:8080/"
        },
        "id": "9wo5ctCG8cLd",
        "outputId": "b15e40b8-f14b-4e23-aa13-0422ad036378"
      },
      "source": [
        "learning_rate = 1\r\n",
        "\r\n",
        "X = X_train\r\n",
        "Y = y_train\r\n",
        "\r\n",
        "n_x = X.shape[0]\r\n",
        "m = X.shape[1]\r\n",
        "\r\n",
        "W = np.random.randn(n_x, 1) * 0.01\r\n",
        "b = np.zeros((1, 1))\r\n",
        "\r\n",
        "for i in range(2000):\r\n",
        "    Z = np.matmul(W.T, X) + b\r\n",
        "    A = sigmoid(Z)\r\n",
        "\r\n",
        "    cost = compute_loss(Y, A)\r\n",
        "\r\n",
        "    dW = (1/m) * np.matmul(X, (A-Y).T)\r\n",
        "    db = (1/m) * np.sum(A-Y, axis=1, keepdims=True)\r\n",
        "\r\n",
        "    W = W - learning_rate * dW\r\n",
        "    b = b - learning_rate * db\r\n",
        "\r\n",
        "    if (i % 100 == 0):\r\n",
        "        print(\"Epoch\", i, \"cost: \", cost)\r\n",
        "\r\n",
        "print(\"Final cost:\", cost)"
      ],
      "execution_count": null,
      "outputs": [
        {
          "output_type": "stream",
          "text": [
            "Epoch 0 cost:  0.6780408776417199\n",
            "Epoch 100 cost:  1.7077023217932543e-05\n",
            "Epoch 200 cost:  1.678816031514579e-05\n"
          ],
          "name": "stdout"
        }
      ]
    },
    {
      "cell_type": "code",
      "metadata": {
        "id": "yQdZHjda8jgH"
      },
      "source": [
        "from sklearn.metrics import classification_report, confusion_matrix\r\n",
        "\r\n",
        "Z = np.matmul(W.T, X_test) + b\r\n",
        "A = sigmoid(Z)\r\n",
        "\r\n",
        "predictions = (A>.5)[0,:]\r\n",
        "labels = (y_test == 1)[0,:]\r\n",
        "\r\n",
        "print(confusion_matrix(predictions, labels))"
      ],
      "execution_count": null,
      "outputs": []
    },
    {
      "cell_type": "code",
      "metadata": {
        "id": "jLSmCPdX8qY0"
      },
      "source": [
        "print(classification_report(predictions, labels))"
      ],
      "execution_count": null,
      "outputs": []
    },
    {
      "cell_type": "markdown",
      "metadata": {
        "id": "O4oSEk6q82XC"
      },
      "source": [
        "#One Hidden Layer"
      ]
    },
    {
      "cell_type": "code",
      "metadata": {
        "id": "043CT2G_8td2"
      },
      "source": [
        ""
      ],
      "execution_count": null,
      "outputs": []
    }
  ]
}