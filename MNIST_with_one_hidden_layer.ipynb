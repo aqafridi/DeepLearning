{
  "nbformat": 4,
  "nbformat_minor": 0,
  "metadata": {
    "colab": {
      "name": "MNIST_with_one_hidden_layer.ipynb",
      "provenance": [],
      "authorship_tag": "ABX9TyPLijg//7UJFtAUAIGUMBVS",
      "include_colab_link": true
    },
    "kernelspec": {
      "name": "python3",
      "display_name": "Python 3"
    }
  },
  "cells": [
    {
      "cell_type": "markdown",
      "metadata": {
        "id": "view-in-github",
        "colab_type": "text"
      },
      "source": [
        "<a href=\"https://colab.research.google.com/github/aqafridi/DeepLearning/blob/main/MNIST_with_one_hidden_layer.ipynb\" target=\"_parent\"><img src=\"https://colab.research.google.com/assets/colab-badge.svg\" alt=\"Open In Colab\"/></a>"
      ]
    },
    {
      "cell_type": "code",
      "metadata": {
        "id": "qTHXYm1UyhjD"
      },
      "source": [
        "import numpy as np\r\n",
        "import matplotlib.pyplot as plt\r\n",
        "from sklearn.datasets import fetch_openml\r\n",
        "from sklearn.model_selection import train_test_split\r\n",
        "mnist = fetch_openml('mnist_784')\r\n",
        "X, y = mnist[\"data\"], mnist[\"target\"]"
      ],
      "execution_count": 3,
      "outputs": []
    },
    {
      "cell_type": "code",
      "metadata": {
        "colab": {
          "base_uri": "https://localhost:8080/",
          "height": 351
        },
        "id": "O8kB1Jwzyrws",
        "outputId": "af77a41b-41f3-45e7-a644-0ada7efe0b5f"
      },
      "source": [
        "print(X.shape)\r\n",
        "print(y.shape)\r\n",
        "print(y[0])\r\n",
        "img=X[0]\r\n",
        "plt.imshow(img.reshape((28,28)))\r\n",
        "plt.title(y[0])"
      ],
      "execution_count": 4,
      "outputs": [
        {
          "output_type": "stream",
          "text": [
            "(70000, 784)\n",
            "(70000,)\n",
            "5\n"
          ],
          "name": "stdout"
        },
        {
          "output_type": "execute_result",
          "data": {
            "text/plain": [
              "Text(0.5, 1.0, '5')"
            ]
          },
          "metadata": {
            "tags": []
          },
          "execution_count": 4
        },
        {
          "output_type": "display_data",
          "data": {
            "image/png": "[encoded data removed]",
            "text/plain": [
              "<Figure size 432x288 with 1 Axes>"
            ]
          },
          "metadata": {
            "tags": [],
            "needs_background": "light"
          }
        }
      ]
    },
    {
      "cell_type": "code",
      "metadata": {
        "colab": {
          "base_uri": "https://localhost:8080/"
        },
        "id": "TEs2tX2_yvBD",
        "outputId": "60580484-adcf-4e1a-cd1a-fd74f2900b69"
      },
      "source": [
        "y=np.array(y,dtype=int)\r\n",
        "print(\"train data\")\r\n",
        "y_value=np.zeros((1,10))\r\n",
        "for i in range (10):\r\n",
        "    print(\"occurance of \",i,\"=\",np.count_nonzero(y==i))\r\n",
        "    y_value[0,i-1]= np.count_nonzero(y==i)"
      ],
      "execution_count": 7,
      "outputs": [
        {
          "output_type": "stream",
          "text": [
            "train data\n",
            "occurance of  0 = 6903\n",
            "occurance of  1 = 7877\n",
            "occurance of  2 = 6990\n",
            "occurance of  3 = 7141\n",
            "occurance of  4 = 6824\n",
            "occurance of  5 = 6313\n",
            "occurance of  6 = 6876\n",
            "occurance of  7 = 7293\n",
            "occurance of  8 = 6825\n",
            "occurance of  9 = 6958\n"
          ],
          "name": "stdout"
        }
      ]
    },
    {
      "cell_type": "code",
      "metadata": {
        "colab": {
          "base_uri": "https://localhost:8080/",
          "height": 297
        },
        "id": "-h4KPYYfyy_o",
        "outputId": "5d530aca-caae-41db-d46f-6fd6cd58acef"
      },
      "source": [
        "y_value=y_value.ravel()\r\n",
        "x_value=[0,1,2,3,4,5,6,7,8,9]\r\n",
        "plt.xlabel('label')\r\n",
        "plt.ylabel('count')\r\n",
        "plt.bar(x_value,y_value,0.7,color='r')"
      ],
      "execution_count": 8,
      "outputs": [
        {
          "output_type": "execute_result",
          "data": {
            "text/plain": [
              "<BarContainer object of 10 artists>"
            ]
          },
          "metadata": {
            "tags": []
          },
          "execution_count": 8
        },
        {
          "output_type": "display_data",
          "data": {
            "image/png": "[encoded data removed]",
            "text/plain": [
              "<Figure size 432x288 with 1 Axes>"
            ]
          },
          "metadata": {
            "tags": [],
            "needs_background": "light"
          }
        }
      ]
    },
    {
      "cell_type": "code",
      "metadata": {
        "id": "TK6B2jreztWz"
      },
      "source": [
        "x_train, x_test, y_train, y_test = train_test_split(X, y,test_size=10000, random_state=4)"
      ],
      "execution_count": 11,
      "outputs": []
    },
    {
      "cell_type": "code",
      "metadata": {
        "colab": {
          "base_uri": "https://localhost:8080/"
        },
        "id": "zq6baowyy12G",
        "outputId": "dc1ce453-6b7b-46ae-c936-08c3c830640a"
      },
      "source": [
        "print('x_train  '+ str(x_train.shape))\r\n",
        "print('y_train  '+ str(y_train.shape))\r\n",
        "print('x_test  '+ str(x_test.shape))\r\n",
        "print('y_test  '+ str(y_test.shape))"
      ],
      "execution_count": 12,
      "outputs": [
        {
          "output_type": "stream",
          "text": [
            "x_train  (60000, 784)\n",
            "y_train  (60000,)\n",
            "x_test  (10000, 784)\n",
            "y_test  (10000,)\n"
          ],
          "name": "stdout"
        }
      ]
    },
    {
      "cell_type": "code",
      "metadata": {
        "colab": {
          "base_uri": "https://localhost:8080/",
          "height": 299
        },
        "id": "eHpfvRHOzida",
        "outputId": "55c6d5be-4b20-4f9d-b653-0d715b31df41"
      },
      "source": [
        "img=x_train[0]\r\n",
        "plt.imshow(img.reshape((28,28)))\r\n",
        "plt.title(y_train[0])"
      ],
      "execution_count": 13,
      "outputs": [
        {
          "output_type": "execute_result",
          "data": {
            "text/plain": [
              "Text(0.5, 1.0, '1')"
            ]
          },
          "metadata": {
            "tags": []
          },
          "execution_count": 13
        },
        {
          "output_type": "display_data",
          "data": {
            "image/png": "[encoded data removed]",
            "text/plain": [
              "<Figure size 432x288 with 1 Axes>"
            ]
          },
          "metadata": {
            "tags": [],
            "needs_background": "light"
          }
        }
      ]
    },
    {
      "cell_type": "markdown",
      "metadata": {
        "id": "-CDhEM4C0Pl4"
      },
      "source": [
        "**Defining the neural network structure**"
      ]
    },
    {
      "cell_type": "code",
      "metadata": {
        "id": "_Cz9F_L03-i5"
      },
      "source": [
        "def softmax(z):\r\n",
        "    e_x = np.exp(z)\r\n",
        "    A= e_x / np.sum(np.exp(z))  \r\n",
        "    cache=z\r\n",
        "    return A,cache \r\n",
        "    \r\n",
        "def sigmoid(z):\r\n",
        "    s = 1 / (1 + np.exp(-z))\r\n",
        "    return s\r\n",
        "\r\n",
        "def ReLU(x):\r\n",
        "    return x * (x > 0)"
      ],
      "execution_count": 33,
      "outputs": []
    },
    {
      "cell_type": "code",
      "metadata": {
        "id": "7UxrSSmlz3kj"
      },
      "source": [
        "def layer_sizes(X, Y):\r\n",
        "    \"\"\"\r\n",
        "    n_x -- the size of the input layer\r\n",
        "    n_h -- the size of the hidden layer\r\n",
        "    n_y -- the size of the output layer\r\n",
        "    \"\"\"\r\n",
        "    n_x = X.shape[0] # size of input layer\r\n",
        "    n_h = 4\r\n",
        "    n_y = Y.shape[0] # size of output layer\r\n",
        "    return (n_x, n_h, n_y)"
      ],
      "execution_count": 14,
      "outputs": []
    },
    {
      "cell_type": "code",
      "metadata": {
        "id": "U0aTcEMa0XbI"
      },
      "source": [
        "def initialize_parameters(n_x, n_h, n_y):\r\n",
        "    \"\"\"\r\n",
        "    Argument:\r\n",
        "    n_x -- size of the input layer\r\n",
        "    n_h -- size of the hidden layer\r\n",
        "    n_y -- size of the output layer\r\n",
        "    \r\n",
        "    Returns:\r\n",
        "    params -- python dictionary containing your parameters:\r\n",
        "                    W1 -- weight matrix of shape (n_h, n_x)\r\n",
        "                    b1 -- bias vector of shape (n_h, 1)\r\n",
        "                    W2 -- weight matrix of shape (n_y, n_h)\r\n",
        "                    b2 -- bias vector of shape (n_y, 1)\r\n",
        "    \"\"\"\r\n",
        "    \r\n",
        "    np.random.seed(2) # we set up a seed so that your output matches ours although the initialization is random.\r\n",
        "    \r\n",
        "    W1 = np.random.randn(n_h,n_x) * 0.01\r\n",
        "    b1 = np.zeros((n_h,1))\r\n",
        "    W2 = np.random.randn(n_y,n_h) * 0.01\r\n",
        "    b2 = np.zeros((n_y,1))\r\n",
        "    \r\n",
        "    assert (W1.shape == (n_h, n_x))\r\n",
        "    assert (b1.shape == (n_h, 1))\r\n",
        "    assert (W2.shape == (n_y, n_h))\r\n",
        "    assert (b2.shape == (n_y, 1))\r\n",
        "    \r\n",
        "    parameters = {\"W1\": W1,\r\n",
        "                  \"b1\": b1,\r\n",
        "                  \"W2\": W2,\r\n",
        "                  \"b2\": b2}\r\n",
        "    \r\n",
        "    return parameters"
      ],
      "execution_count": 15,
      "outputs": []
    },
    {
      "cell_type": "code",
      "metadata": {
        "id": "mkIVgyYL0saf"
      },
      "source": [
        "def forward_propagation(X, parameters):\r\n",
        "    \"\"\"\r\n",
        "    Argument:\r\n",
        "    X -- input data of size (n_x, m)\r\n",
        "    parameters -- python dictionary containing your parameters (output of initialization function)\r\n",
        "    \r\n",
        "    Returns:\r\n",
        "    A2 -- The sigmoid output of the second activation\r\n",
        "    cache -- a dictionary containing \"Z1\", \"A1\", \"Z2\" and \"A2\"\r\n",
        "    \"\"\"\r\n",
        "    # Retrieve each parameter from the dictionary \"parameters\"\r\n",
        "    W1 = parameters['W1']\r\n",
        "    b1 = parameters['b1']\r\n",
        "    W2 = parameters['W2']\r\n",
        "    b2 = parameters['b2']\r\n",
        "    \r\n",
        "    # Implement Forward Propagation to calculate A2 (probabilities)\r\n",
        "    Z1 = np.dot(W1, X) + b1\r\n",
        "    A1 = np.tanh(Z1)\r\n",
        "    Z2 = np.dot(W2, A1) + b2\r\n",
        "    A2 = sigmoid(Z2)\r\n",
        "    \r\n",
        "    # assert(A2.shape == (1, X.shape[1]))\r\n",
        "    \r\n",
        "    cache = {\"Z1\": Z1,\r\n",
        "             \"A1\": A1,\r\n",
        "             \"Z2\": Z2,\r\n",
        "             \"A2\": A2}\r\n",
        "    \r\n",
        "    return A2, cache"
      ],
      "execution_count": 24,
      "outputs": []
    },
    {
      "cell_type": "code",
      "metadata": {
        "id": "fMWR9AFr08Df"
      },
      "source": [
        "def compute_cost(A2, Y, parameters):\r\n",
        "    \"\"\"\r\n",
        "    A2 -- The sigmoid output of the second activation, of shape (1, number of examples)\r\n",
        "    Y -- \"true\" labels vector of shape (1, number of examples)\r\n",
        "    parameters -- python dictionary containing your parameters W1, b1, W2 and b2\r\n",
        "    Returns:\r\n",
        "    cost -- cross-entropy cost given equation (13)\r\n",
        "    \"\"\"\r\n",
        "    \r\n",
        "    m = Y.shape[0] # number of example\r\n",
        "\r\n",
        "    # Compute the cross-entropy cost\r\n",
        "    logprobs = np.multiply(np.log(A2),Y) +  np.multiply(np.log(1-A2), (1-Y))\r\n",
        "    cost = -1/m*np.sum(logprobs)\r\n",
        "    cost = float(np.squeeze(cost))  # makes sure cost is the dimension we expect. \r\n",
        "                                    # E.g., turns [[17]] into 17 \r\n",
        "    assert(isinstance(cost, float))\r\n",
        "    \r\n",
        "    return cost"
      ],
      "execution_count": 31,
      "outputs": []
    },
    {
      "cell_type": "code",
      "metadata": {
        "id": "20brAqst1cAr"
      },
      "source": [
        "def backward_propagation(parameters, cache, X, Y):\r\n",
        "    \"\"\"\r\n",
        "    parameters -- python dictionary containing our parameters \r\n",
        "    cache -- a dictionary containing \"Z1\", \"A1\", \"Z2\" and \"A2\".\r\n",
        "    X -- input data of shape (2, number of examples)\r\n",
        "    Y -- \"true\" labels vector of shape (1, number of examples)\r\n",
        "    \"\"\"\r\n",
        "    m = X.shape[1]\r\n",
        "    \r\n",
        "    # First, retrieve W1 and W2 from the dictionary \"parameters\".\r\n",
        "    W1 = parameters[\"W1\"]\r\n",
        "    W2 = parameters[\"W2\"]\r\n",
        "        \r\n",
        "    # Retrieve also A1 and A2 from dictionary \"cache\".\r\n",
        "    A1 = cache[\"A1\"]\r\n",
        "    A2 = cache[\"A2\"]\r\n",
        "    \r\n",
        "    # Backward propagation: calculate dW1, db1, dW2, db2. \r\n",
        "    dZ2= A2-Y\r\n",
        "    dW2 = 1./m*np.dot(dZ2, A1.T)\r\n",
        "    db2 = 1./m*np.sum(dZ2, axis = 1, keepdims=True)\r\n",
        "    dZ1 = np.dot(W2.T, dZ2) * (1 - np.power(A1, 2))\r\n",
        "    dW1 = 1./m* np.dot(dZ1, X.T)\r\n",
        "    db1 = 1./m*np.sum(dZ1, axis = 1, keepdims=True)\r\n",
        "    \r\n",
        "    grads = {\"dW1\": dW1,\r\n",
        "             \"db1\": db1,\r\n",
        "             \"dW2\": dW2,\r\n",
        "             \"db2\": db2}\r\n",
        "    \r\n",
        "    return grads"
      ],
      "execution_count": 18,
      "outputs": []
    },
    {
      "cell_type": "code",
      "metadata": {
        "id": "d02DiS-02Dwn"
      },
      "source": [
        "def update_parameters(parameters, grads, learning_rate = 1.2):\r\n",
        "    \"\"\"\r\n",
        "    Arguments:\r\n",
        "    parameters -- python dictionary containing your parameters \r\n",
        "    grads -- python dictionary containing your gradients \r\n",
        "    Returns:\r\n",
        "    parameters -- python dictionary containing your updated parameters \r\n",
        "    \"\"\"\r\n",
        "    # Retrieve each parameter from the dictionary \"parameters\"\r\n",
        "    W1 = parameters[\"W1\"]\r\n",
        "    W2 = parameters[\"W2\"]\r\n",
        "    b1 = parameters[\"b1\"]\r\n",
        "    b2 = parameters[\"b2\"]\r\n",
        "    # Retrieve each gradient from the dictionary \"grads\"\r\n",
        "    dW1 = grads[\"dW1\"]\r\n",
        "    db1 = grads[\"db1\"]\r\n",
        "    dW2 = grads[\"dW2\"]\r\n",
        "    db2 = grads[\"db2\"]\r\n",
        "    # Update rule for each parameter\r\n",
        "    W1 = W1 - dW1 * learning_rate\r\n",
        "    b1 = b1 - db1 * learning_rate\r\n",
        "    W2 = W2 - dW2 * learning_rate\r\n",
        "    b2 = b2 - db2 * learning_rate\r\n",
        "    \r\n",
        "    parameters = {\"W1\": W1,\r\n",
        "                  \"b1\": b1,\r\n",
        "                  \"W2\": W2,\r\n",
        "                  \"b2\": b2}\r\n",
        "    \r\n",
        "    return parameters"
      ],
      "execution_count": 19,
      "outputs": []
    },
    {
      "cell_type": "code",
      "metadata": {
        "id": "X_C3lpeO2Yjj"
      },
      "source": [
        "def nn_model(X, Y, n_h, num_iterations = 10000, print_cost=False):\r\n",
        "    \"\"\"\r\n",
        "    Arguments:\r\n",
        "    X -- dataset of shape (2, number of examples)\r\n",
        "    Y -- labels of shape (1, number of examples)\r\n",
        "    n_h -- size of the hidden layer\r\n",
        "    num_iterations -- Number of iterations in gradient descent loop\r\n",
        "    print_cost -- if True, print the cost every 1000 iterations\r\n",
        "    Returns:\r\n",
        "    parameters -- parameters learnt by the model. They can then be used to predict.\r\n",
        "    \"\"\"\r\n",
        "    np.random.seed(3)\r\n",
        "    n_x = layer_sizes(X, Y)[0]\r\n",
        "    n_y = layer_sizes(X, Y)[2]\r\n",
        "    \r\n",
        "    # Initialize parameters\r\n",
        "    parameters = initialize_parameters(n_x, n_h, n_y)\r\n",
        "    \r\n",
        "    # Loop (gradient descent)\r\n",
        "\r\n",
        "    for i in range(0, num_iterations):\r\n",
        "        # Forward propagation. Inputs: \"X, parameters\". Outputs: \"A2, cache\".\r\n",
        "        A2, cache = forward_propagation(X, parameters)\r\n",
        "        \r\n",
        "        # Cost function. Inputs: \"A2, Y, parameters\". Outputs: \"cost\".\r\n",
        "        cost = compute_cost(A2, Y, parameters)\r\n",
        " \r\n",
        "        # Backpropagation. Inputs: \"parameters, cache, X, Y\". Outputs: \"grads\".\r\n",
        "        grads = backward_propagation(parameters, cache, X, Y)\r\n",
        " \r\n",
        "        # Gradient descent parameter update. Inputs: \"parameters, grads\". Outputs: \"parameters\".\r\n",
        "        parameters = update_parameters(parameters, grads)\r\n",
        "\r\n",
        "        # Print the cost every 1000 iterations\r\n",
        "        if print_cost and i % 1000 == 0:\r\n",
        "            print (\"Cost after iteration %i: %f\" %(i, cost))\r\n",
        "\r\n",
        "    return parameters"
      ],
      "execution_count": 20,
      "outputs": []
    },
    {
      "cell_type": "code",
      "metadata": {
        "colab": {
          "base_uri": "https://localhost:8080/",
          "height": 312
        },
        "id": "My8_QbXe3ML2",
        "outputId": "c5c96927-bb51-4dbc-b86f-35134847d17e"
      },
      "source": [
        "parameters = nn_model(x_train, y_train, 4, num_iterations=100, print_cost=True)"
      ],
      "execution_count": 32,
      "outputs": [
        {
          "output_type": "error",
          "ename": "ValueError",
          "evalue": "ignored",
          "traceback": [
            "\u001b[0;31m---------------------------------------------------------------------------\u001b[0m",
            "\u001b[0;31mValueError\u001b[0m                                Traceback (most recent call last)",
            "\u001b[0;32m<ipython-input-32-502a698c9689>\u001b[0m in \u001b[0;36m<module>\u001b[0;34m()\u001b[0m\n\u001b[0;32m----> 1\u001b[0;31m \u001b[0mparameters\u001b[0m \u001b[0;34m=\u001b[0m \u001b[0mnn_model\u001b[0m\u001b[0;34m(\u001b[0m\u001b[0mx_train\u001b[0m\u001b[0;34m,\u001b[0m \u001b[0my_train\u001b[0m\u001b[0;34m,\u001b[0m \u001b[0;36m4\u001b[0m\u001b[0;34m,\u001b[0m \u001b[0mnum_iterations\u001b[0m\u001b[0;34m=\u001b[0m\u001b[0;36m100\u001b[0m\u001b[0;34m,\u001b[0m \u001b[0mprint_cost\u001b[0m\u001b[0;34m=\u001b[0m\u001b[0;32mTrue\u001b[0m\u001b[0;34m)\u001b[0m\u001b[0;34m\u001b[0m\u001b[0;34m\u001b[0m\u001b[0m\n\u001b[0m",
            "\u001b[0;32m<ipython-input-20-ef0cb5ecb099>\u001b[0m in \u001b[0;36mnn_model\u001b[0;34m(X, Y, n_h, num_iterations, print_cost)\u001b[0m\n\u001b[1;32m     25\u001b[0m \u001b[0;34m\u001b[0m\u001b[0m\n\u001b[1;32m     26\u001b[0m         \u001b[0;31m# Cost function. Inputs: \"A2, Y, parameters\". Outputs: \"cost\".\u001b[0m\u001b[0;34m\u001b[0m\u001b[0;34m\u001b[0m\u001b[0;34m\u001b[0m\u001b[0m\n\u001b[0;32m---> 27\u001b[0;31m         \u001b[0mcost\u001b[0m \u001b[0;34m=\u001b[0m \u001b[0mcompute_cost\u001b[0m\u001b[0;34m(\u001b[0m\u001b[0mA2\u001b[0m\u001b[0;34m,\u001b[0m \u001b[0mY\u001b[0m\u001b[0;34m,\u001b[0m \u001b[0mparameters\u001b[0m\u001b[0;34m)\u001b[0m\u001b[0;34m\u001b[0m\u001b[0;34m\u001b[0m\u001b[0m\n\u001b[0m\u001b[1;32m     28\u001b[0m \u001b[0;34m\u001b[0m\u001b[0m\n\u001b[1;32m     29\u001b[0m         \u001b[0;31m# Backpropagation. Inputs: \"parameters, cache, X, Y\". Outputs: \"grads\".\u001b[0m\u001b[0;34m\u001b[0m\u001b[0;34m\u001b[0m\u001b[0;34m\u001b[0m\u001b[0m\n",
            "\u001b[0;32m<ipython-input-31-a607b9bd5d39>\u001b[0m in \u001b[0;36mcompute_cost\u001b[0;34m(A2, Y, parameters)\u001b[0m\n\u001b[1;32m     11\u001b[0m \u001b[0;34m\u001b[0m\u001b[0m\n\u001b[1;32m     12\u001b[0m     \u001b[0;31m# Compute the cross-entropy cost\u001b[0m\u001b[0;34m\u001b[0m\u001b[0;34m\u001b[0m\u001b[0;34m\u001b[0m\u001b[0m\n\u001b[0;32m---> 13\u001b[0;31m     \u001b[0mlogprobs\u001b[0m \u001b[0;34m=\u001b[0m \u001b[0mnp\u001b[0m\u001b[0;34m.\u001b[0m\u001b[0mmultiply\u001b[0m\u001b[0;34m(\u001b[0m\u001b[0mnp\u001b[0m\u001b[0;34m.\u001b[0m\u001b[0mlog\u001b[0m\u001b[0;34m(\u001b[0m\u001b[0mA2\u001b[0m\u001b[0;34m)\u001b[0m\u001b[0;34m,\u001b[0m\u001b[0mY\u001b[0m\u001b[0;34m)\u001b[0m \u001b[0;34m+\u001b[0m  \u001b[0mnp\u001b[0m\u001b[0;34m.\u001b[0m\u001b[0mmultiply\u001b[0m\u001b[0;34m(\u001b[0m\u001b[0mnp\u001b[0m\u001b[0;34m.\u001b[0m\u001b[0mlog\u001b[0m\u001b[0;34m(\u001b[0m\u001b[0;36m1\u001b[0m\u001b[0;34m-\u001b[0m\u001b[0mA2\u001b[0m\u001b[0;34m)\u001b[0m\u001b[0;34m,\u001b[0m \u001b[0;34m(\u001b[0m\u001b[0;36m1\u001b[0m\u001b[0;34m-\u001b[0m\u001b[0mY\u001b[0m\u001b[0;34m)\u001b[0m\u001b[0;34m)\u001b[0m\u001b[0;34m\u001b[0m\u001b[0;34m\u001b[0m\u001b[0m\n\u001b[0m\u001b[1;32m     14\u001b[0m     \u001b[0mcost\u001b[0m \u001b[0;34m=\u001b[0m \u001b[0;34m-\u001b[0m\u001b[0;36m1\u001b[0m\u001b[0;34m/\u001b[0m\u001b[0mm\u001b[0m\u001b[0;34m*\u001b[0m\u001b[0mnp\u001b[0m\u001b[0;34m.\u001b[0m\u001b[0msum\u001b[0m\u001b[0;34m(\u001b[0m\u001b[0mlogprobs\u001b[0m\u001b[0;34m)\u001b[0m\u001b[0;34m\u001b[0m\u001b[0;34m\u001b[0m\u001b[0m\n\u001b[1;32m     15\u001b[0m     \u001b[0mcost\u001b[0m \u001b[0;34m=\u001b[0m \u001b[0mfloat\u001b[0m\u001b[0;34m(\u001b[0m\u001b[0mnp\u001b[0m\u001b[0;34m.\u001b[0m\u001b[0msqueeze\u001b[0m\u001b[0;34m(\u001b[0m\u001b[0mcost\u001b[0m\u001b[0;34m)\u001b[0m\u001b[0;34m)\u001b[0m  \u001b[0;31m# makes sure cost is the dimension we expect.\u001b[0m\u001b[0;34m\u001b[0m\u001b[0;34m\u001b[0m\u001b[0m\n",
            "\u001b[0;31mValueError\u001b[0m: operands could not be broadcast together with shapes (60000,784) (60000,) "
          ]
        }
      ]
    },
    {
      "cell_type": "code",
      "metadata": {
        "id": "lTVnMgm136zs"
      },
      "source": [
        ""
      ],
      "execution_count": null,
      "outputs": []
    }
  ]
}