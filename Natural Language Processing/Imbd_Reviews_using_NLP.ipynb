{
  "nbformat": 4,
  "nbformat_minor": 0,
  "metadata": {
    "colab": {
      "name": "Imbd Reviews using NLP.ipynb",
      "provenance": [],
      "authorship_tag": "ABX9TyMQAOIB8dHkvptA4/9KxfJQ",
      "include_colab_link": true
    },
    "kernelspec": {
      "name": "python3",
      "display_name": "Python 3"
    }
  },
  "cells": [
    {
      "cell_type": "markdown",
      "metadata": {
        "id": "view-in-github",
        "colab_type": "text"
      },
      "source": [
        "<a href=\"https://colab.research.google.com/github/aqafridi/DeepLearning/blob/main/Natural%20Language%20Processing/Imbd_Reviews_using_NLP.ipynb\" target=\"_parent\"><img src=\"https://colab.research.google.com/assets/colab-badge.svg\" alt=\"Open In Colab\"/></a>"
      ]
    },
    {
      "cell_type": "code",
      "metadata": {
        "id": "D63F9eCwRH8e"
      },
      "source": [
        "from tensorflow"
      ],
      "execution_count": null,
      "outputs": []
    }
  ]
}