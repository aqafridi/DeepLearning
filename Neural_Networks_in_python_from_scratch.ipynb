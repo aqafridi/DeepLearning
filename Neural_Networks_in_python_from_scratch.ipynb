{
  "nbformat": 4,
  "nbformat_minor": 0,
  "metadata": {
    "colab": {
      "name": "Neural_Networks_in_python_from_scratch.ipynb",
      "provenance": [],
      "authorship_tag": "ABX9TyOIjcZ/u0nM0vOHE3rlFH/J",
      "include_colab_link": true
    },
    "kernelspec": {
      "name": "python3",
      "display_name": "Python 3"
    }
  },
  "cells": [
    {
      "cell_type": "markdown",
      "metadata": {
        "id": "view-in-github",
        "colab_type": "text"
      },
      "source": [
        "<a href=\"https://colab.research.google.com/github/aqafridi/DeepLearning/blob/main/Neural_Networks_in_python_from_scratch.ipynb\" target=\"_parent\"><img src=\"https://colab.research.google.com/assets/colab-badge.svg\" alt=\"Open In Colab\"/></a>"
      ]
    },
    {
      "cell_type": "code",
      "metadata": {
        "id": "gt8InpjjMMFD"
      },
      "source": [
        "import numpy as np\r\n",
        "#only for importing datasets of mnist.\r\n",
        "# from keras.datasets import mnist\r\n",
        "import matplotlib.pyplot as plt\r\n",
        "from sklearn.datasets import fetch_openml\r\n",
        "mnist = fetch_openml('mnist_784')\r\n",
        "X, y = mnist[\"data\"], mnist[\"target\"]"
      ],
      "execution_count": 27,
      "outputs": []
    },
    {
      "cell_type": "markdown",
      "metadata": {
        "id": "4T65L5_HRFa_"
      },
      "source": [
        "**normalize the data to keep our gradients manageable**"
      ]
    },
    {
      "cell_type": "code",
      "metadata": {
        "colab": {
          "base_uri": "https://localhost:8080/",
          "height": 351
        },
        "id": "gQCIE4Z0MuT0",
        "outputId": "25ea3a67-539b-4e3c-8273-8a2543137f26"
      },
      "source": [
        "print(X.shape)\r\n",
        "print(y.shape)\r\n",
        "print(y[0])\r\n",
        "img=X[0]\r\n",
        "plt.imshow(img.reshape((28,28)))\r\n",
        "plt.title(y[0])"
      ],
      "execution_count": 30,
      "outputs": [
        {
          "output_type": "stream",
          "text": [
            "(70000, 784)\n",
            "(70000,)\n",
            "5\n"
          ],
          "name": "stdout"
        },
        {
          "output_type": "execute_result",
          "data": {
            "text/plain": [
              "Text(0.5, 1.0, '5')"
            ]
          },
          "metadata": {
            "tags": []
          },
          "execution_count": 30
        },
        {
          "output_type": "display_data",
          "data": {
            "image/png": "[encoded data removed]",
            "text/plain": [
              "<Figure size 432x288 with 1 Axes>"
            ]
          },
          "metadata": {
            "tags": [],
            "needs_background": "light"
          }
        }
      ]
    },
    {
      "cell_type": "code",
      "metadata": {
        "id": "d8UinfZhmmTB"
      },
      "source": [
        "y_new = np.zeros(y.shape)\r\n",
        "y_new[np.where(y == 0.0)[0]] = 1\r\n",
        "y = y_new"
      ],
      "execution_count": 31,
      "outputs": []
    },
    {
      "cell_type": "code",
      "metadata": {
        "id": "ZPf-cq21nJGO"
      },
      "source": [
        "m = 60000\r\n",
        "m_test = X.shape[0] - m\r\n",
        "\r\n",
        "X_train, X_test = X[:m].T, X[m:].T\r\n",
        "y_train, y_test = y[:m].reshape(1,m), y[m:].reshape(1,m_test)"
      ],
      "execution_count": 32,
      "outputs": []
    },
    {
      "cell_type": "code",
      "metadata": {
        "id": "IailW8NHnK34"
      },
      "source": [
        "np.random.seed(138)\r\n",
        "shuffle_index = np.random.permutation(m)\r\n",
        "X_train, y_train = X_train[:,shuffle_index], y_train[:,shuffle_index]"
      ],
      "execution_count": 33,
      "outputs": []
    },
    {
      "cell_type": "code",
      "metadata": {
        "colab": {
          "base_uri": "https://localhost:8080/"
        },
        "id": "h-HPdGFknzNm",
        "outputId": "6fa723d4-feb6-4e37-cb2a-b240aa77d1bb"
      },
      "source": [
        "y_train.shape"
      ],
      "execution_count": 38,
      "outputs": [
        {
          "output_type": "execute_result",
          "data": {
            "text/plain": [
              "(1, 60000)"
            ]
          },
          "metadata": {
            "tags": []
          },
          "execution_count": 38
        }
      ]
    },
    {
      "cell_type": "code",
      "metadata": {
        "id": "nxAXnI3mnyb_"
      },
      "source": [
        ""
      ],
      "execution_count": null,
      "outputs": []
    },
    {
      "cell_type": "code",
      "metadata": {
        "colab": {
          "base_uri": "https://localhost:8080/"
        },
        "id": "XJ5LP9dnnjnR",
        "outputId": "7995241f-1d5e-46a3-fb89-f4ad608b38a4"
      },
      "source": [
        "X_train.shape"
      ],
      "execution_count": 36,
      "outputs": [
        {
          "output_type": "execute_result",
          "data": {
            "text/plain": [
              "(784, 60000)"
            ]
          },
          "metadata": {
            "tags": []
          },
          "execution_count": 36
        }
      ]
    },
    {
      "cell_type": "code",
      "metadata": {
        "id": "KSTL3DcPSccM"
      },
      "source": [
        "\r\n",
        "# Reshape the training and test examples \r\n",
        "train_flat = X_train.reshape(X_train.shape[0], -1).T   # The \"-1\" makes reshape flatten the remaining dimensions\r\n",
        "test_flat = X_test.reshape(X_test.shape[0], -1).T"
      ],
      "execution_count": null,
      "outputs": []
    }
  ]
}