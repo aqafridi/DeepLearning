{
  "nbformat": 4,
  "nbformat_minor": 0,
  "metadata": {
    "colab": {
      "name": "Neural_Networks_in_python_from_scratch.ipynb",
      "provenance": [],
      "authorship_tag": "ABX9TyMmwcsYnq4+0s1LZZ6ihnLp",
      "include_colab_link": true
    },
    "kernelspec": {
      "name": "python3",
      "display_name": "Python 3"
    }
  },
  "cells": [
    {
      "cell_type": "markdown",
      "metadata": {
        "id": "view-in-github",
        "colab_type": "text"
      },
      "source": [
        "<a href=\"https://colab.research.google.com/github/aqafridi/DeepLearning/blob/main/Neural_Networks_in_python_from_scratch.ipynb\" target=\"_parent\"><img src=\"https://colab.research.google.com/assets/colab-badge.svg\" alt=\"Open In Colab\"/></a>"
      ]
    },
    {
      "cell_type": "code",
      "metadata": {
        "id": "gt8InpjjMMFD"
      },
      "source": [
        "import numpy as np\r\n",
        "import matplotlib.pyplot as plt\r\n",
        "from sklearn.datasets import fetch_openml\r\n",
        "from sklearn.model_selection import train_test_split\r\n",
        "mnist = fetch_openml('mnist_784')\r\n",
        "XX, yy = mnist[\"data\"], mnist[\"target\"]"
      ],
      "execution_count": 94,
      "outputs": []
    },
    {
      "cell_type": "code",
      "metadata": {
        "colab": {
          "base_uri": "https://localhost:8080/",
          "height": 351
        },
        "id": "gQCIE4Z0MuT0",
        "outputId": "3967fef2-62ba-41e4-e0db-bdd69aec4a96"
      },
      "source": [
        "X=np.array(XX)\r\n",
        "y=np.array(yy,dtype=int)\r\n",
        "print(X.shape)\r\n",
        "print(y.shape)\r\n",
        "print(y[0])\r\n",
        "img=X[0]\r\n",
        "plt.imshow(img.reshape((28,28)))\r\n",
        "plt.title(y[0])"
      ],
      "execution_count": 97,
      "outputs": [
        {
          "output_type": "stream",
          "text": [
            "(70000, 784)\n",
            "(70000,)\n",
            "5\n"
          ],
          "name": "stdout"
        },
        {
          "output_type": "execute_result",
          "data": {
            "text/plain": [
              "Text(0.5, 1.0, '5')"
            ]
          },
          "metadata": {
            "tags": []
          },
          "execution_count": 97
        },
        {
          "output_type": "display_data",
          "data": {
            "image/png": "[encoded data removed]",
            "text/plain": [
              "<Figure size 432x288 with 1 Axes>"
            ]
          },
          "metadata": {
            "tags": [],
            "needs_background": "light"
          }
        }
      ]
    },
    {
      "cell_type": "code",
      "metadata": {
        "colab": {
          "base_uri": "https://localhost:8080/"
        },
        "id": "ycLlL26OAUV2",
        "outputId": "5fd4785e-27c9-44b3-90bd-c90cdf50d2aa"
      },
      "source": [
        "print(\"train data\")\r\n",
        "y_value=np.zeros((1,10))\r\n",
        "for i in range (10):\r\n",
        "    print(\"occurance of \",i,\"=\",np.count_nonzero(y==i))\r\n",
        "    y_value[0,i-1]= np.count_nonzero(y==i)"
      ],
      "execution_count": 98,
      "outputs": [
        {
          "output_type": "stream",
          "text": [
            "train data\n",
            "occurance of  0 = 6903\n",
            "occurance of  1 = 7877\n",
            "occurance of  2 = 6990\n",
            "occurance of  3 = 7141\n",
            "occurance of  4 = 6824\n",
            "occurance of  5 = 6313\n",
            "occurance of  6 = 6876\n",
            "occurance of  7 = 7293\n",
            "occurance of  8 = 6825\n",
            "occurance of  9 = 6958\n"
          ],
          "name": "stdout"
        }
      ]
    },
    {
      "cell_type": "code",
      "metadata": {
        "colab": {
          "base_uri": "https://localhost:8080/",
          "height": 297
        },
        "id": "QqofFEjMDSJx",
        "outputId": "feaf1b1b-e8fa-4cd2-e8e2-e9021d1a0b13"
      },
      "source": [
        "y_value=y_value.ravel()\r\n",
        "x_value=[0,1,2,3,4,5,6,7,8,9]\r\n",
        "plt.xlabel('label')\r\n",
        "plt.ylabel('count')\r\n",
        "plt.bar(x_value,y_value,0.7,color='r')"
      ],
      "execution_count": 100,
      "outputs": [
        {
          "output_type": "execute_result",
          "data": {
            "text/plain": [
              "<BarContainer object of 10 artists>"
            ]
          },
          "metadata": {
            "tags": []
          },
          "execution_count": 100
        },
        {
          "output_type": "display_data",
          "data": {
            "image/png": "[encoded data removed]",
            "text/plain": [
              "<Figure size 432x288 with 1 Axes>"
            ]
          },
          "metadata": {
            "tags": [],
            "needs_background": "light"
          }
        }
      ]
    },
    {
      "cell_type": "code",
      "metadata": {
        "id": "ZPf-cq21nJGO"
      },
      "source": [
        "# x_train, x_test, y_train, y_test = train_test_split(X, y,test_size=10000, random_state=4)\r\n",
        "x_train, x_test, y_train, y_test = train_test_split(X, y)"
      ],
      "execution_count": 105,
      "outputs": []
    },
    {
      "cell_type": "code",
      "metadata": {
        "colab": {
          "base_uri": "https://localhost:8080/"
        },
        "id": "h-HPdGFknzNm",
        "outputId": "97cdd698-780f-47bc-bce8-fd6ae7d1c625"
      },
      "source": [
        "print('x_train  '+ str(x_train.shape))\r\n",
        "print('y_train  '+ str(y_train.shape))\r\n",
        "print('x_test  '+ str(x_test.shape))\r\n",
        "print('y_test  '+ str(y_test.shape))"
      ],
      "execution_count": 106,
      "outputs": [
        {
          "output_type": "stream",
          "text": [
            "x_train  (52500, 784)\n",
            "y_train  (52500,)\n",
            "x_test  (17500, 784)\n",
            "y_test  (17500,)\n"
          ],
          "name": "stdout"
        }
      ]
    },
    {
      "cell_type": "code",
      "metadata": {
        "colab": {
          "base_uri": "https://localhost:8080/",
          "height": 299
        },
        "id": "nxAXnI3mnyb_",
        "outputId": "1827f77f-298b-40ce-af5d-01d33cba8733"
      },
      "source": [
        "img=x_train[0]\r\n",
        "plt.imshow(img.reshape((28,28)))\r\n",
        "plt.title(y_train[0])"
      ],
      "execution_count": 107,
      "outputs": [
        {
          "output_type": "execute_result",
          "data": {
            "text/plain": [
              "Text(0.5, 1.0, '7')"
            ]
          },
          "metadata": {
            "tags": []
          },
          "execution_count": 107
        },
        {
          "output_type": "display_data",
          "data": {
            "image/png": "[encoded data removed]",
            "text/plain": [
              "<Figure size 432x288 with 1 Axes>"
            ]
          },
          "metadata": {
            "tags": [],
            "needs_background": "light"
          }
        }
      ]
    },
    {
      "cell_type": "markdown",
      "metadata": {
        "id": "X10I6joXuhtt"
      },
      "source": [
        "#Reshape the training and test examples"
      ]
    },
    {
      "cell_type": "code",
      "metadata": {
        "colab": {
          "base_uri": "https://localhost:8080/"
        },
        "id": "KSTL3DcPSccM",
        "outputId": "3433e945-cdc8-49c8-a257-d095f60796fd"
      },
      "source": [
        "# Reshape the training and test examples \r\n",
        "# x_train=np.copy(x_train)\r\n",
        "train_flat = x_train.reshape(x_train.shape[0], -1).T   # The \"-1\" makes reshape flatten the remaining dimensions\r\n",
        "test_flat = x_test.reshape(x_test.shape[0], -1).T\r\n",
        "print (\"train_flat shape: \" + str(train_flat.shape))\r\n",
        "print (\"test_flat shape:  \" + str(test_flat.shape))"
      ],
      "execution_count": 108,
      "outputs": [
        {
          "output_type": "stream",
          "text": [
            "train_flat shape: (784, 52500)\n",
            "test_flat shape:  (784, 17500)\n"
          ],
          "name": "stdout"
        }
      ]
    },
    {
      "cell_type": "markdown",
      "metadata": {
        "id": "4T65L5_HRFa_"
      },
      "source": [
        "# Standardize data to have feature values between 0 and 1."
      ]
    },
    {
      "cell_type": "code",
      "metadata": {
        "colab": {
          "base_uri": "https://localhost:8080/"
        },
        "id": "YU2IiG7muLRy",
        "outputId": "4331f2fc-da2d-4523-c1c9-37a21bff5533"
      },
      "source": [
        "X_train = train_flat/255 \r\n",
        "X_test = test_flat/255\r\n",
        "print (\"train_x's shape: \" + str(X_train.shape))\r\n",
        "print (\"test_x's shape: \" + str(X_test.shape))"
      ],
      "execution_count": 74,
      "outputs": [
        {
          "output_type": "stream",
          "text": [
            "train_x's shape: (784, 60000)\n",
            "test_x's shape: (784, 10000)\n"
          ],
          "name": "stdout"
        }
      ]
    },
    {
      "cell_type": "code",
      "metadata": {
        "id": "y1HaDqFjsxTh"
      },
      "source": [
        "def softmax(z):\r\n",
        "    e_x = np.exp(z)\r\n",
        "    A= e_x / np.sum(np.exp(z))  \r\n",
        "    cache=z\r\n",
        "    return A,cache \r\n",
        "    \r\n",
        "def sigmoid(z):\r\n",
        "    s = 1 / (1 + np.exp(-z))\r\n",
        "    return s\r\n"
      ],
      "execution_count": 85,
      "outputs": []
    },
    {
      "cell_type": "code",
      "metadata": {
        "id": "9-gzR65251Q6"
      },
      "source": [
        "def compute_loss(Y, Y_hat):\r\n",
        "\r\n",
        "    m = Y.shape[1]\r\n",
        "    L = -(1./m) * ( np.sum( np.multiply(np.log(Y_hat),Y) ) + np.sum( np.multiply(np.log(1-Y_hat),(1-Y)) ) )\r\n",
        "\r\n",
        "    return L"
      ],
      "execution_count": 86,
      "outputs": []
    },
    {
      "cell_type": "code",
      "metadata": {
        "id": "WIHfhF2W62mp"
      },
      "source": [
        ""
      ],
      "execution_count": null,
      "outputs": []
    }
  ]
}