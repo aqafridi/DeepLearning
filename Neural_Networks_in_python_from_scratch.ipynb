{
  "nbformat": 4,
  "nbformat_minor": 0,
  "metadata": {
    "colab": {
      "name": "Neural_Networks_in_python_from_scratch.ipynb",
      "provenance": [],
      "authorship_tag": "ABX9TyN6IC9+4VvNKZXIXC56TnQy",
      "include_colab_link": true
    },
    "kernelspec": {
      "name": "python3",
      "display_name": "Python 3"
    }
  },
  "cells": [
    {
      "cell_type": "markdown",
      "metadata": {
        "id": "view-in-github",
        "colab_type": "text"
      },
      "source": [
        "<a href=\"https://colab.research.google.com/github/aqafridi/DeepLearning/blob/main/Neural_Networks_in_python_from_scratch.ipynb\" target=\"_parent\"><img src=\"https://colab.research.google.com/assets/colab-badge.svg\" alt=\"Open In Colab\"/></a>"
      ]
    },
    {
      "cell_type": "code",
      "metadata": {
        "id": "gt8InpjjMMFD"
      },
      "source": [
        "import numpy as np\r\n",
        "#only for importing datasets of mnist.\r\n",
        "# from keras.datasets import mnist\r\n",
        "import matplotlib.pyplot as plt\r\n",
        "from sklearn.datasets import fetch_openml\r\n",
        "from sklearn.model_selection import train_test_split\r\n",
        "mnist = fetch_openml('mnist_784')\r\n",
        "X, y = mnist[\"data\"], mnist[\"target\"]"
      ],
      "execution_count": 67,
      "outputs": []
    },
    {
      "cell_type": "code",
      "metadata": {
        "colab": {
          "base_uri": "https://localhost:8080/",
          "height": 351
        },
        "id": "gQCIE4Z0MuT0",
        "outputId": "a02ee2e7-f932-444f-8f0c-5445c7986ae3"
      },
      "source": [
        "print(X.shape)\r\n",
        "print(y.shape)\r\n",
        "print(y[0])\r\n",
        "img=X[0]\r\n",
        "plt.imshow(img.reshape((28,28)))\r\n",
        "plt.title(y[0])"
      ],
      "execution_count": 68,
      "outputs": [
        {
          "output_type": "stream",
          "text": [
            "(70000, 784)\n",
            "(70000,)\n",
            "5\n"
          ],
          "name": "stdout"
        },
        {
          "output_type": "execute_result",
          "data": {
            "text/plain": [
              "Text(0.5, 1.0, '5')"
            ]
          },
          "metadata": {
            "tags": []
          },
          "execution_count": 68
        },
        {
          "output_type": "display_data",
          "data": {
            "image/png": "[encoded data removed]",
            "text/plain": [
              "<Figure size 432x288 with 1 Axes>"
            ]
          },
          "metadata": {
            "tags": [],
            "needs_background": "light"
          }
        }
      ]
    },
    {
      "cell_type": "markdown",
      "metadata": {
        "id": "d8UinfZhmmTB"
      },
      "source": [
        ""
      ]
    },
    {
      "cell_type": "code",
      "metadata": {
        "id": "ZPf-cq21nJGO"
      },
      "source": [
        "x_train, x_test, y_train, y_test = train_test_split(X, y,test_size=10000, random_state=4)"
      ],
      "execution_count": 69,
      "outputs": []
    },
    {
      "cell_type": "code",
      "metadata": {
        "colab": {
          "base_uri": "https://localhost:8080/"
        },
        "id": "h-HPdGFknzNm",
        "outputId": "9bb7e20d-5365-4b02-a374-afb39f731aa1"
      },
      "source": [
        "print('x_train  '+ str(x_train.shape))\r\n",
        "print('y_train  '+ str(y_train.shape))\r\n",
        "print('x_test  '+ str(x_test.shape))\r\n",
        "print('y_test  '+ str(y_test.shape))"
      ],
      "execution_count": 70,
      "outputs": [
        {
          "output_type": "stream",
          "text": [
            "x_train  (60000, 784)\n",
            "y_train  (60000,)\n",
            "x_test  (10000, 784)\n",
            "y_test  (10000,)\n"
          ],
          "name": "stdout"
        }
      ]
    },
    {
      "cell_type": "code",
      "metadata": {
        "colab": {
          "base_uri": "https://localhost:8080/",
          "height": 299
        },
        "id": "nxAXnI3mnyb_",
        "outputId": "c1286642-23d1-4e62-dd1c-c009ad56cf53"
      },
      "source": [
        "img=x_train[0]\r\n",
        "plt.imshow(img.reshape((28,28)))\r\n",
        "plt.title(y_train[0])"
      ],
      "execution_count": 71,
      "outputs": [
        {
          "output_type": "execute_result",
          "data": {
            "text/plain": [
              "Text(0.5, 1.0, '1')"
            ]
          },
          "metadata": {
            "tags": []
          },
          "execution_count": 71
        },
        {
          "output_type": "display_data",
          "data": {
            "image/png": "[encoded data removed]",
            "text/plain": [
              "<Figure size 432x288 with 1 Axes>"
            ]
          },
          "metadata": {
            "tags": [],
            "needs_background": "light"
          }
        }
      ]
    },
    {
      "cell_type": "markdown",
      "metadata": {
        "id": "X10I6joXuhtt"
      },
      "source": [
        "#Reshape the training and test examples"
      ]
    },
    {
      "cell_type": "code",
      "metadata": {
        "id": "KSTL3DcPSccM"
      },
      "source": [
        "# Reshape the training and test examples \r\n",
        "train_flat = x_train.reshape(x_train.shape[0], -1).T   # The \"-1\" makes reshape flatten the remaining dimensions\r\n",
        "test_flat = x_test.reshape(x_test.shape[0], -1).T"
      ],
      "execution_count": 72,
      "outputs": []
    },
    {
      "cell_type": "markdown",
      "metadata": {
        "id": "4T65L5_HRFa_"
      },
      "source": [
        "# Standardize data to have feature values between 0 and 1."
      ]
    },
    {
      "cell_type": "code",
      "metadata": {
        "colab": {
          "base_uri": "https://localhost:8080/"
        },
        "id": "YU2IiG7muLRy",
        "outputId": "d6811f87-4a91-4178-9248-85787a2d8494"
      },
      "source": [
        "x_train = train_flat/255 \r\n",
        "x_test = test_flat/255\r\n",
        "print (\"train_x's shape: \" + str(x_train.shape))\r\n",
        "print (\"test_x's shape: \" + str(x_test.shape))"
      ],
      "execution_count": 73,
      "outputs": [
        {
          "output_type": "stream",
          "text": [
            "train_x's shape: (784, 60000)\n",
            "test_x's shape: (784, 10000)\n"
          ],
          "name": "stdout"
        }
      ]
    },
    {
      "cell_type": "code",
      "metadata": {
        "id": "y1HaDqFjsxTh"
      },
      "source": [
        "def softmax(z):\r\n",
        "    e_x = np.exp(z)\r\n",
        "    A= e_x / np.sum(np.exp(z))  \r\n",
        "    cache=z\r\n",
        "    return A,cache "
      ],
      "execution_count": null,
      "outputs": []
    }
  ]
}