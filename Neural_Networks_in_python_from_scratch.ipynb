{
  "nbformat": 4,
  "nbformat_minor": 0,
  "metadata": {
    "colab": {
      "name": "Neural_Networks_in_python_from_scratch.ipynb",
      "provenance": [],
      "authorship_tag": "ABX9TyPVRoPMdHpcQka2FIyphNXF",
      "include_colab_link": true
    },
    "kernelspec": {
      "name": "python3",
      "display_name": "Python 3"
    },
    "accelerator": "GPU"
  },
  "cells": [
    {
      "cell_type": "markdown",
      "metadata": {
        "id": "view-in-github",
        "colab_type": "text"
      },
      "source": [
        "<a href=\"https://colab.research.google.com/github/aqafridi/DeepLearning/blob/main/Neural_Networks_in_python_from_scratch.ipynb\" target=\"_parent\"><img src=\"https://colab.research.google.com/assets/colab-badge.svg\" alt=\"Open In Colab\"/></a>"
      ]
    },
    {
      "cell_type": "code",
      "metadata": {
        "id": "gt8InpjjMMFD"
      },
      "source": [
        "import numpy as np\r\n",
        "import matplotlib.pyplot as plt\r\n",
        "from sklearn.datasets import fetch_openml\r\n",
        "from sklearn.model_selection import train_test_split\r\n",
        "mnist = fetch_openml('mnist_784')\r\n",
        "XX, yy = mnist[\"data\"], mnist[\"target\"]"
      ],
      "execution_count": 1,
      "outputs": []
    },
    {
      "cell_type": "code",
      "metadata": {
        "colab": {
          "base_uri": "https://localhost:8080/",
          "height": 351
        },
        "id": "gQCIE4Z0MuT0",
        "outputId": "f45d6971-4f7b-4175-97c6-f3124877e879"
      },
      "source": [
        "X=np.array(XX)\r\n",
        "y=np.array(yy,dtype=int)\r\n",
        "print(X.shape)\r\n",
        "print(y.shape)\r\n",
        "print(y[0])\r\n",
        "img=X[0]\r\n",
        "plt.imshow(img.reshape((28,28)))\r\n",
        "plt.title(y[0])"
      ],
      "execution_count": 2,
      "outputs": [
        {
          "output_type": "stream",
          "text": [
            "(70000, 784)\n",
            "(70000,)\n",
            "5\n"
          ],
          "name": "stdout"
        },
        {
          "output_type": "execute_result",
          "data": {
            "text/plain": [
              "Text(0.5, 1.0, '5')"
            ]
          },
          "metadata": {
            "tags": []
          },
          "execution_count": 2
        },
        {
          "output_type": "display_data",
          "data": {
            "image/png": "[encoded data removed]",
            "text/plain": [
              "<Figure size 432x288 with 1 Axes>"
            ]
          },
          "metadata": {
            "tags": [],
            "needs_background": "light"
          }
        }
      ]
    },
    {
      "cell_type": "code",
      "metadata": {
        "colab": {
          "base_uri": "https://localhost:8080/"
        },
        "id": "ycLlL26OAUV2",
        "outputId": "dfe54fb7-3eb0-4f5c-e1b7-c48c5231647f"
      },
      "source": [
        "print(\"train data\")\r\n",
        "y_value=np.zeros((1,10))\r\n",
        "for i in range (10):\r\n",
        "    print(\"occurance of \",i,\"=\",np.count_nonzero(y==i))\r\n",
        "    y_value[0,i-1]= np.count_nonzero(y==i)"
      ],
      "execution_count": 3,
      "outputs": [
        {
          "output_type": "stream",
          "text": [
            "train data\n",
            "occurance of  0 = 6903\n",
            "occurance of  1 = 7877\n",
            "occurance of  2 = 6990\n",
            "occurance of  3 = 7141\n",
            "occurance of  4 = 6824\n",
            "occurance of  5 = 6313\n",
            "occurance of  6 = 6876\n",
            "occurance of  7 = 7293\n",
            "occurance of  8 = 6825\n",
            "occurance of  9 = 6958\n"
          ],
          "name": "stdout"
        }
      ]
    },
    {
      "cell_type": "code",
      "metadata": {
        "colab": {
          "base_uri": "https://localhost:8080/",
          "height": 297
        },
        "id": "QqofFEjMDSJx",
        "outputId": "5f42d55f-de54-4d2e-e258-604fc79f5bc3"
      },
      "source": [
        "y_value=y_value.ravel()\r\n",
        "x_value=[0,1,2,3,4,5,6,7,8,9]\r\n",
        "plt.xlabel('label')\r\n",
        "plt.ylabel('count')\r\n",
        "plt.bar(x_value,y_value,0.7,color='r')"
      ],
      "execution_count": 4,
      "outputs": [
        {
          "output_type": "execute_result",
          "data": {
            "text/plain": [
              "<BarContainer object of 10 artists>"
            ]
          },
          "metadata": {
            "tags": []
          },
          "execution_count": 4
        },
        {
          "output_type": "display_data",
          "data": {
            "image/png": "[encoded data removed]",
            "text/plain": [
              "<Figure size 432x288 with 1 Axes>"
            ]
          },
          "metadata": {
            "tags": [],
            "needs_background": "light"
          }
        }
      ]
    },
    {
      "cell_type": "code",
      "metadata": {
        "id": "ZPf-cq21nJGO"
      },
      "source": [
        "x_train, x_test, y_train, y_test = train_test_split(X, y,test_size=10000, random_state=4)\r\n",
        "# x_train, x_test, y_train, y_test = train_test_split(X, y)"
      ],
      "execution_count": 5,
      "outputs": []
    },
    {
      "cell_type": "code",
      "metadata": {
        "colab": {
          "base_uri": "https://localhost:8080/"
        },
        "id": "h-HPdGFknzNm",
        "outputId": "496693f2-7d2a-445b-cdf0-79f8a9dd3ff6"
      },
      "source": [
        "print('x_train  '+ str(x_train.shape))\r\n",
        "print('y_train  '+ str(y_train.shape))\r\n",
        "print('x_test  '+ str(x_test.shape))\r\n",
        "print('y_test  '+ str(y_test.shape))"
      ],
      "execution_count": 6,
      "outputs": [
        {
          "output_type": "stream",
          "text": [
            "x_train  (60000, 784)\n",
            "y_train  (60000,)\n",
            "x_test  (10000, 784)\n",
            "y_test  (10000,)\n"
          ],
          "name": "stdout"
        }
      ]
    },
    {
      "cell_type": "code",
      "metadata": {
        "colab": {
          "base_uri": "https://localhost:8080/",
          "height": 299
        },
        "id": "nxAXnI3mnyb_",
        "outputId": "357dc5e1-16c8-45d2-d59f-2c6ee792722b"
      },
      "source": [
        "img=x_train[0]\r\n",
        "plt.imshow(img.reshape((28,28)))\r\n",
        "plt.title(y_train[0])"
      ],
      "execution_count": 7,
      "outputs": [
        {
          "output_type": "execute_result",
          "data": {
            "text/plain": [
              "Text(0.5, 1.0, '1')"
            ]
          },
          "metadata": {
            "tags": []
          },
          "execution_count": 7
        },
        {
          "output_type": "display_data",
          "data": {
            "image/png": "[encoded data removed]",
            "text/plain": [
              "<Figure size 432x288 with 1 Axes>"
            ]
          },
          "metadata": {
            "tags": [],
            "needs_background": "light"
          }
        }
      ]
    },
    {
      "cell_type": "markdown",
      "metadata": {
        "id": "X10I6joXuhtt"
      },
      "source": [
        "#Reshape the training and test examples"
      ]
    },
    {
      "cell_type": "code",
      "metadata": {
        "colab": {
          "base_uri": "https://localhost:8080/"
        },
        "id": "KSTL3DcPSccM",
        "outputId": "288ee7cd-fc89-4517-e13d-d1b4daa04ec9"
      },
      "source": [
        "# Reshape the training and test examples \r\n",
        "# x_train=np.copy(x_train)\r\n",
        "train_flat = x_train.flatten()\r\n",
        "test_flat = x_test.flatten()\r\n",
        "# train_flat = x_train.reshape(x_train.shape[0], -1).T   # The \"-1\" makes reshape flatten the remaining dimensions\r\n",
        "# test_flat = x_test.reshape(x_test.shape[0], -1).T\r\n",
        "print (\"train_flat shape: \" + str(train_flat.shape))\r\n",
        "print (\"test_flat shape:  \" + str(test_flat.shape))"
      ],
      "execution_count": 8,
      "outputs": [
        {
          "output_type": "stream",
          "text": [
            "train_flat shape: (47040000,)\n",
            "test_flat shape:  (7840000,)\n"
          ],
          "name": "stdout"
        }
      ]
    },
    {
      "cell_type": "markdown",
      "metadata": {
        "id": "4T65L5_HRFa_"
      },
      "source": [
        "# Standardize data to have feature values between 0 and 1."
      ]
    },
    {
      "cell_type": "code",
      "metadata": {
        "colab": {
          "base_uri": "https://localhost:8080/"
        },
        "id": "YU2IiG7muLRy",
        "outputId": "ca1f07e7-ab3d-4b40-c2b5-b1ab38a5f347"
      },
      "source": [
        "X_train = train_flat/255 \r\n",
        "X_test = test_flat/255\r\n",
        "print (\"train_x's shape: \" + str(X_train.shape))\r\n",
        "print (\"test_x's shape: \" + str(X_test.shape))\r\n",
        "print (\"train_y's shape: \" + str(y_train.shape))\r\n",
        "print (\"test_y's shape: \" + str(y_test.shape))"
      ],
      "execution_count": 9,
      "outputs": [
        {
          "output_type": "stream",
          "text": [
            "train_x's shape: (47040000,)\n",
            "test_x's shape: (7840000,)\n",
            "train_y's shape: (60000,)\n",
            "test_y's shape: (10000,)\n"
          ],
          "name": "stdout"
        }
      ]
    },
    {
      "cell_type": "code",
      "metadata": {
        "id": "y1HaDqFjsxTh"
      },
      "source": [
        "def softmax(z):\r\n",
        "    e_x = np.exp(z)\r\n",
        "    A= e_x / np.sum(np.exp(z))  \r\n",
        "    cache=z\r\n",
        "    return A,cache \r\n",
        "    \r\n",
        "def sigmoid(z):\r\n",
        "    s = 1 / (1 + np.exp(-z))\r\n",
        "    return s\r\n"
      ],
      "execution_count": 10,
      "outputs": []
    },
    {
      "cell_type": "code",
      "metadata": {
        "id": "WIHfhF2W62mp"
      },
      "source": [
        "def initialize_with_zeros(dim):\r\n",
        "    \r\n",
        "    w = np.zeros(shape=(dim,1))\r\n",
        "    b = 0\r\n",
        "    assert(w.shape == (dim, 1))\r\n",
        "    assert(isinstance(b, float) or isinstance(b, int))\r\n",
        "    \r\n",
        "    return w, b"
      ],
      "execution_count": 11,
      "outputs": []
    },
    {
      "cell_type": "code",
      "metadata": {
        "id": "UVq_ymEjsNZp"
      },
      "source": [
        "def propagate(w, b, X, Y):\r\n",
        "\r\n",
        "    m = X.shape[1]\r\n",
        "    # FORWARD PROPAGATION (FROM X TO COST)\r\n",
        "    A = sigmoid(np.dot(w.T,X)+ b)                                   # compute activation\r\n",
        "    cost = -(1/m)*np.sum(Y*np.log(A)+(1-Y)*np.log(1-A))                                # compute cost\r\n",
        "    \r\n",
        "    # BACKWARD PROPAGATION (TO FIND GRAD)\r\n",
        "    dw = (1/m)*np.dot(X, (A-Y).T)\r\n",
        "    db = (1/m)*np.sum(A-Y)\r\n",
        "\r\n",
        "    assert(dw.shape == w.shape)\r\n",
        "    assert(db.dtype == float)\r\n",
        "    cost = np.squeeze(cost)\r\n",
        "    assert(cost.shape == ())\r\n",
        "    \r\n",
        "    grads = {\"dw\": dw,\r\n",
        "             \"db\": db}\r\n",
        "    \r\n",
        "    return grads, cost"
      ],
      "execution_count": 12,
      "outputs": []
    },
    {
      "cell_type": "code",
      "metadata": {
        "id": "9-gzR65251Q6"
      },
      "source": [
        "#FUNCTION: optimize\r\n",
        "\r\n",
        "def optimize(w, b, X, Y, num_iterations, learning_rate, print_cost = False):\r\n",
        "    \r\n",
        "    costs = []\r\n",
        "    \r\n",
        "    for i in range(num_iterations):\r\n",
        "        \r\n",
        "        \r\n",
        "        # Cost and gradient calculation\r\n",
        "        grads, cost = propagate(w, b, X, Y)\r\n",
        "        \r\n",
        "        # Retrieve derivatives from grads\r\n",
        "        dw = grads[\"dw\"]\r\n",
        "        db = grads[\"db\"]\r\n",
        "        \r\n",
        "        # update rule (≈ 2 lines of code)\r\n",
        "        w = w - learning_rate * dw\r\n",
        "        b = b - learning_rate * db\r\n",
        "        \r\n",
        "        # Record the costs\r\n",
        "        if i % 100 == 0:\r\n",
        "            costs.append(cost)\r\n",
        "        \r\n",
        "        # Print the cost every 100 training iterations\r\n",
        "        if print_cost and i % 100 == 0:\r\n",
        "            print (\"Cost after iteration %i: %f\" %(i, cost))\r\n",
        "    \r\n",
        "    params = {\"w\": w,\r\n",
        "              \"b\": b}\r\n",
        "    \r\n",
        "    grads = {\"dw\": dw,\r\n",
        "             \"db\": db}\r\n",
        "    \r\n",
        "    return params, grads, costs"
      ],
      "execution_count": 13,
      "outputs": []
    },
    {
      "cell_type": "code",
      "metadata": {
        "id": "zCIAK31WtDFa"
      },
      "source": [
        "# FUNCTION: optimize\r\n",
        "\r\n",
        "def optimize(w, b, X, Y, num_iterations, learning_rate, print_cost = False):\r\n",
        "  \r\n",
        "    costs = []\r\n",
        "    \r\n",
        "    for i in range(num_iterations):\r\n",
        "        # Cost and gradient calculation (≈ 1-4 lines of code)\r\n",
        "        grads, cost = propagate(w, b, X, Y)\r\n",
        "        # Retrieve derivatives from grads\r\n",
        "        dw = grads[\"dw\"]\r\n",
        "        db = grads[\"db\"]\r\n",
        "        # update rule (≈ 2 lines of code)\r\n",
        "        w = w - learning_rate * dw\r\n",
        "        b = b - learning_rate * db\r\n",
        "        # Record the costs\r\n",
        "        if i % 100 == 0:\r\n",
        "            costs.append(cost)\r\n",
        "        # Print the cost every 100 training iterations\r\n",
        "        if print_cost and i % 100 == 0:\r\n",
        "            print (\"Cost after iteration %i: %f\" %(i, cost))\r\n",
        "    \r\n",
        "    params = {\"w\": w,\r\n",
        "              \"b\": b}\r\n",
        "    \r\n",
        "    grads = {\"dw\": dw,\r\n",
        "             \"db\": db}\r\n",
        "    \r\n",
        "    return params, grads, costs"
      ],
      "execution_count": 14,
      "outputs": []
    },
    {
      "cell_type": "code",
      "metadata": {
        "id": "3xw9Uwkmti7J"
      },
      "source": [
        "# GRADED FUNCTION: model\r\n",
        "\r\n",
        "def model(X_train, y_train, X_test, y_test, num_iterations = 2000, learning_rate = 0.5, print_cost = False):\r\n",
        "    \r\n",
        "    # initialize parameters with zeros (≈ 1 line of code)\r\n",
        "    w, b = initialize_with_zeros(X_train.shape[0])\r\n",
        "\r\n",
        "    # Gradient descent (≈ 1 line of code)\r\n",
        "    parameters, grads, costs = optimize(w, b, X_train, y_train, num_iterations, learning_rate, print_cost)\r\n",
        "    \r\n",
        "    # Retrieve parameters w and b from dictionary \"parameters\"\r\n",
        "    w = parameters[\"w\"]\r\n",
        "    b = parameters[\"b\"]\r\n",
        "    \r\n",
        "    # Predict test/train set examples (≈ 2 lines of code)\r\n",
        "    Y_prediction_test = predict(w, b, X_test)\r\n",
        "    Y_prediction_train = predict(w, b, X_train)\r\n",
        "\r\n",
        "    # Print train/test Errors\r\n",
        "    print(\"train accuracy: {} %\".format(100 - np.mean(np.abs(Y_prediction_train - y_train)) * 100))\r\n",
        "    print(\"test accuracy: {} %\".format(100 - np.mean(np.abs(Y_prediction_test - y_test)) * 100))\r\n",
        "\r\n",
        "    \r\n",
        "    d = {\"costs\": costs,\r\n",
        "         \"Y_prediction_test\": Y_prediction_test, \r\n",
        "         \"Y_prediction_train\" : Y_prediction_train, \r\n",
        "         \"w\" : w, \r\n",
        "         \"b\" : b,\r\n",
        "         \"learning_rate\" : learning_rate,\r\n",
        "         \"num_iterations\": num_iterations}\r\n",
        "    \r\n",
        "    return d"
      ],
      "execution_count": 18,
      "outputs": []
    },
    {
      "cell_type": "code",
      "metadata": {
        "id": "fJc9RI9BuCKI",
        "outputId": "ca68dadb-25c0-4f1e-dda1-e2df1770a904",
        "colab": {
          "base_uri": "https://localhost:8080/",
          "height": 329
        }
      },
      "source": [
        "# FUNCTION: model\r\n",
        "d = model(X_train, y_train, X_test, y_test, num_iterations = 2000, learning_rate = 0.005, print_cost = True)"
      ],
      "execution_count": 19,
      "outputs": [
        {
          "output_type": "error",
          "ename": "IndexError",
          "evalue": "ignored",
          "traceback": [
            "\u001b[0;31m---------------------------------------------------------------------------\u001b[0m",
            "\u001b[0;31mIndexError\u001b[0m                                Traceback (most recent call last)",
            "\u001b[0;32m<ipython-input-19-72256dd2f30c>\u001b[0m in \u001b[0;36m<module>\u001b[0;34m()\u001b[0m\n\u001b[1;32m      1\u001b[0m \u001b[0;31m# GRADED FUNCTION: model\u001b[0m\u001b[0;34m\u001b[0m\u001b[0;34m\u001b[0m\u001b[0;34m\u001b[0m\u001b[0m\n\u001b[0;32m----> 2\u001b[0;31m \u001b[0md\u001b[0m \u001b[0;34m=\u001b[0m \u001b[0mmodel\u001b[0m\u001b[0;34m(\u001b[0m\u001b[0mX_train\u001b[0m\u001b[0;34m,\u001b[0m \u001b[0my_train\u001b[0m\u001b[0;34m,\u001b[0m \u001b[0mX_test\u001b[0m\u001b[0;34m,\u001b[0m \u001b[0my_test\u001b[0m\u001b[0;34m,\u001b[0m \u001b[0mnum_iterations\u001b[0m \u001b[0;34m=\u001b[0m \u001b[0;36m2000\u001b[0m\u001b[0;34m,\u001b[0m \u001b[0mlearning_rate\u001b[0m \u001b[0;34m=\u001b[0m \u001b[0;36m0.005\u001b[0m\u001b[0;34m,\u001b[0m \u001b[0mprint_cost\u001b[0m \u001b[0;34m=\u001b[0m \u001b[0;32mTrue\u001b[0m\u001b[0;34m)\u001b[0m\u001b[0;34m\u001b[0m\u001b[0;34m\u001b[0m\u001b[0m\n\u001b[0m",
            "\u001b[0;32m<ipython-input-18-cbf47c0a2980>\u001b[0m in \u001b[0;36mmodel\u001b[0;34m(X_train, y_train, X_test, y_test, num_iterations, learning_rate, print_cost)\u001b[0m\n\u001b[1;32m      7\u001b[0m \u001b[0;34m\u001b[0m\u001b[0m\n\u001b[1;32m      8\u001b[0m     \u001b[0;31m# Gradient descent (≈ 1 line of code)\u001b[0m\u001b[0;34m\u001b[0m\u001b[0;34m\u001b[0m\u001b[0;34m\u001b[0m\u001b[0m\n\u001b[0;32m----> 9\u001b[0;31m     \u001b[0mparameters\u001b[0m\u001b[0;34m,\u001b[0m \u001b[0mgrads\u001b[0m\u001b[0;34m,\u001b[0m \u001b[0mcosts\u001b[0m \u001b[0;34m=\u001b[0m \u001b[0moptimize\u001b[0m\u001b[0;34m(\u001b[0m\u001b[0mw\u001b[0m\u001b[0;34m,\u001b[0m \u001b[0mb\u001b[0m\u001b[0;34m,\u001b[0m \u001b[0mX_train\u001b[0m\u001b[0;34m,\u001b[0m \u001b[0my_train\u001b[0m\u001b[0;34m,\u001b[0m \u001b[0mnum_iterations\u001b[0m\u001b[0;34m,\u001b[0m \u001b[0mlearning_rate\u001b[0m\u001b[0;34m,\u001b[0m \u001b[0mprint_cost\u001b[0m\u001b[0;34m)\u001b[0m\u001b[0;34m\u001b[0m\u001b[0;34m\u001b[0m\u001b[0m\n\u001b[0m\u001b[1;32m     10\u001b[0m \u001b[0;34m\u001b[0m\u001b[0m\n\u001b[1;32m     11\u001b[0m     \u001b[0;31m# Retrieve parameters w and b from dictionary \"parameters\"\u001b[0m\u001b[0;34m\u001b[0m\u001b[0;34m\u001b[0m\u001b[0;34m\u001b[0m\u001b[0m\n",
            "\u001b[0;32m<ipython-input-14-c21d125a156b>\u001b[0m in \u001b[0;36moptimize\u001b[0;34m(w, b, X, Y, num_iterations, learning_rate, print_cost)\u001b[0m\n\u001b[1;32m      7\u001b[0m     \u001b[0;32mfor\u001b[0m \u001b[0mi\u001b[0m \u001b[0;32min\u001b[0m \u001b[0mrange\u001b[0m\u001b[0;34m(\u001b[0m\u001b[0mnum_iterations\u001b[0m\u001b[0;34m)\u001b[0m\u001b[0;34m:\u001b[0m\u001b[0;34m\u001b[0m\u001b[0;34m\u001b[0m\u001b[0m\n\u001b[1;32m      8\u001b[0m         \u001b[0;31m# Cost and gradient calculation (≈ 1-4 lines of code)\u001b[0m\u001b[0;34m\u001b[0m\u001b[0;34m\u001b[0m\u001b[0;34m\u001b[0m\u001b[0m\n\u001b[0;32m----> 9\u001b[0;31m         \u001b[0mgrads\u001b[0m\u001b[0;34m,\u001b[0m \u001b[0mcost\u001b[0m \u001b[0;34m=\u001b[0m \u001b[0mpropagate\u001b[0m\u001b[0;34m(\u001b[0m\u001b[0mw\u001b[0m\u001b[0;34m,\u001b[0m \u001b[0mb\u001b[0m\u001b[0;34m,\u001b[0m \u001b[0mX\u001b[0m\u001b[0;34m,\u001b[0m \u001b[0mY\u001b[0m\u001b[0;34m)\u001b[0m\u001b[0;34m\u001b[0m\u001b[0;34m\u001b[0m\u001b[0m\n\u001b[0m\u001b[1;32m     10\u001b[0m         \u001b[0;31m# Retrieve derivatives from grads\u001b[0m\u001b[0;34m\u001b[0m\u001b[0;34m\u001b[0m\u001b[0;34m\u001b[0m\u001b[0m\n\u001b[1;32m     11\u001b[0m         \u001b[0mdw\u001b[0m \u001b[0;34m=\u001b[0m \u001b[0mgrads\u001b[0m\u001b[0;34m[\u001b[0m\u001b[0;34m\"dw\"\u001b[0m\u001b[0;34m]\u001b[0m\u001b[0;34m\u001b[0m\u001b[0;34m\u001b[0m\u001b[0m\n",
            "\u001b[0;32m<ipython-input-12-98c0b576337b>\u001b[0m in \u001b[0;36mpropagate\u001b[0;34m(w, b, X, Y)\u001b[0m\n\u001b[1;32m      1\u001b[0m \u001b[0;32mdef\u001b[0m \u001b[0mpropagate\u001b[0m\u001b[0;34m(\u001b[0m\u001b[0mw\u001b[0m\u001b[0;34m,\u001b[0m \u001b[0mb\u001b[0m\u001b[0;34m,\u001b[0m \u001b[0mX\u001b[0m\u001b[0;34m,\u001b[0m \u001b[0mY\u001b[0m\u001b[0;34m)\u001b[0m\u001b[0;34m:\u001b[0m\u001b[0;34m\u001b[0m\u001b[0;34m\u001b[0m\u001b[0m\n\u001b[1;32m      2\u001b[0m \u001b[0;34m\u001b[0m\u001b[0m\n\u001b[0;32m----> 3\u001b[0;31m     \u001b[0mm\u001b[0m \u001b[0;34m=\u001b[0m \u001b[0mX\u001b[0m\u001b[0;34m.\u001b[0m\u001b[0mshape\u001b[0m\u001b[0;34m[\u001b[0m\u001b[0;36m1\u001b[0m\u001b[0;34m]\u001b[0m\u001b[0;34m\u001b[0m\u001b[0;34m\u001b[0m\u001b[0m\n\u001b[0m\u001b[1;32m      4\u001b[0m     \u001b[0;31m# FORWARD PROPAGATION (FROM X TO COST)\u001b[0m\u001b[0;34m\u001b[0m\u001b[0;34m\u001b[0m\u001b[0;34m\u001b[0m\u001b[0m\n\u001b[1;32m      5\u001b[0m     \u001b[0mA\u001b[0m \u001b[0;34m=\u001b[0m \u001b[0msigmoid\u001b[0m\u001b[0;34m(\u001b[0m\u001b[0mnp\u001b[0m\u001b[0;34m.\u001b[0m\u001b[0mdot\u001b[0m\u001b[0;34m(\u001b[0m\u001b[0mw\u001b[0m\u001b[0;34m.\u001b[0m\u001b[0mT\u001b[0m\u001b[0;34m,\u001b[0m\u001b[0mX\u001b[0m\u001b[0;34m)\u001b[0m\u001b[0;34m+\u001b[0m \u001b[0mb\u001b[0m\u001b[0;34m)\u001b[0m                                   \u001b[0;31m# compute activation\u001b[0m\u001b[0;34m\u001b[0m\u001b[0;34m\u001b[0m\u001b[0m\n",
            "\u001b[0;31mIndexError\u001b[0m: tuple index out of range"
          ]
        }
      ]
    },
    {
      "cell_type": "code",
      "metadata": {
        "id": "fvP0mROBuNMX"
      },
      "source": [
        ""
      ],
      "execution_count": null,
      "outputs": []
    }
  ]
}