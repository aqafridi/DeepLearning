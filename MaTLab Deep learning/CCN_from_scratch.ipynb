{
  "nbformat": 4,
  "nbformat_minor": 0,
  "metadata": {
    "colab": {
      "name": "CCN from scratch.ipynb",
      "provenance": [],
      "authorship_tag": "ABX9TyPtbPl3vLNRzKallCI2mQhX",
      "include_colab_link": true
    },
    "kernelspec": {
      "name": "python3",
      "display_name": "Python 3"
    },
    "language_info": {
      "name": "python"
    }
  },
  "cells": [
    {
      "cell_type": "markdown",
      "metadata": {
        "id": "view-in-github",
        "colab_type": "text"
      },
      "source": [
        "<a href=\"https://colab.research.google.com/github/aqafridi/DeepLearning/blob/main/MaTLab%20Deep%20learning/CCN_from_scratch.ipynb\" target=\"_parent\"><img src=\"https://colab.research.google.com/assets/colab-badge.svg\" alt=\"Open In Colab\"/></a>"
      ]
    },
    {
      "cell_type": "markdown",
      "source": [
        "# Train a CNN from Scratch"
      ],
      "metadata": {
        "id": "VrS2nBYXSPUy"
      }
    },
    {
      "cell_type": "code",
      "execution_count": null,
      "metadata": {
        "id": "GamyxHbCSGVh"
      },
      "outputs": [],
      "source": [
        "load satData.mat XTrain YTrain XTest YTest\n",
        "categories(YTrain)"
      ]
    },
    {
      "cell_type": "markdown",
      "source": [
        ""
      ],
      "metadata": {
        "id": "9BoCzi3ASUKz"
      }
    },
    {
      "cell_type": "code",
      "source": [
        "# Create a column vector of 7 layers named layers, with the layers in the order shown above.\n",
        "layers=[imageInputLayer([28,28,4]),\n",
        "convolution2dLayer(3,20),\n",
        "reluLayer(),\n",
        "maxPooling2dLayer(3),\n",
        "fullyConnectedLayer(6),\n",
        "softmaxLayer(),\n",
        "classificationLayer()]"
      ],
      "metadata": {
        "id": "XzmHtQafSUZD"
      },
      "execution_count": null,
      "outputs": []
    },
    {
      "cell_type": "markdown",
      "source": [
        "Create training options named options. Use the algorithm \"sgdm\", set the maximum number of epochs to 5, and set the initial learning rate to 0.0001."
      ],
      "metadata": {
        "id": "ZFLGcE9aSUkM"
      }
    },
    {
      "cell_type": "code",
      "source": [
        "options = trainingOptions(\"sgdm\",\"MaxEpochs\",5,\"InitialLearnRate\",0.0001);"
      ],
      "metadata": {
        "id": "hPszrp1uSUvm"
      },
      "execution_count": null,
      "outputs": []
    },
    {
      "cell_type": "markdown",
      "source": [
        "Use the classify function to classify the test data XTest. Save the predictions in an array testpreds."
      ],
      "metadata": {
        "id": "BHCgL6UzSU8A"
      }
    },
    {
      "cell_type": "code",
      "source": [
        "load satelliteNetwork.mat landnet\n",
        "testpreds = classify(landnet,XTest);"
      ],
      "metadata": {
        "id": "TQjLzGLzSVH5"
      },
      "execution_count": null,
      "outputs": []
    },
    {
      "cell_type": "markdown",
      "source": [
        "Display a confusion matrix using the confusionchart function. Use the known classes (YTest) as the first input and the predicted classes (testpreds) as the second input."
      ],
      "metadata": {
        "id": "8R5njin0SVVU"
      }
    },
    {
      "cell_type": "code",
      "source": [
        "confusionchart(YTest,testpreds)"
      ],
      "metadata": {
        "id": "WUpbJr8mSVhj"
      },
      "execution_count": null,
      "outputs": []
    },
    {
      "cell_type": "markdown",
      "source": [
        "# Practice Convolutions"
      ],
      "metadata": {
        "id": "qIcn7fAkWUZs"
      }
    },
    {
      "cell_type": "code",
      "source": [
        "sunIm = imread(\"sunflower.jpg\");\n",
        "imshow(sunIm)"
      ],
      "metadata": {
        "id": "LZcnRDAgWUty"
      },
      "execution_count": null,
      "outputs": []
    },
    {
      "cell_type": "markdown",
      "source": [
        "Extract the first channel of the image sunIm to a variable named redIm. Use imshow to display redIm."
      ],
      "metadata": {
        "id": "CeyNRiPxWU57"
      }
    },
    {
      "cell_type": "code",
      "source": [
        "redIm = sunIm(:,:,1);\n",
        "imshow(redIm)"
      ],
      "metadata": {
        "id": "72M-x6ZuWVGB"
      },
      "execution_count": null,
      "outputs": []
    },
    {
      "cell_type": "markdown",
      "source": [
        "Save the identity kernel in a matrix named identityK."
      ],
      "metadata": {
        "id": "jV36-n_hWVTL"
      }
    },
    {
      "cell_type": "code",
      "source": [
        "identityK = [0 0 0;0 1 0;0 0 0]"
      ],
      "metadata": {
        "id": "ITzriNkYWVe1"
      },
      "execution_count": null,
      "outputs": []
    },
    {
      "cell_type": "markdown",
      "source": [
        "Apply the identity kernel to the red image channel using the conv2 function. Name the filtered image identityConv."
      ],
      "metadata": {
        "id": "277UaX_tWV0s"
      }
    },
    {
      "cell_type": "code",
      "source": [
        "identityConv = conv2(identityK,redIm);"
      ],
      "metadata": {
        "id": "p_CD1OK-WWAU"
      },
      "execution_count": null,
      "outputs": []
    },
    {
      "cell_type": "markdown",
      "source": [
        "Display the image identityConv using the empty brackets as the second input to imshow"
      ],
      "metadata": {
        "id": "zkRtiVvHqnRg"
      }
    },
    {
      "cell_type": "code",
      "source": [
        "imshow(identityConv,[]);"
      ],
      "metadata": {
        "id": "aW88uDbuqngG"
      },
      "execution_count": null,
      "outputs": []
    },
    {
      "cell_type": "markdown",
      "source": [
        "Save the blurring kernel in a matrix named blurK. Then, repeat tasks 3 and 4 to create and display the blurred image.\n",
        "\n",
        "Name the convolved image blurConv. When displaying, use empty brackets as the second input to imshow."
      ],
      "metadata": {
        "id": "lCPOGMvLqntE"
      }
    },
    {
      "cell_type": "code",
      "source": [
        "blurK = 1/9*[1 1 1;1 1 1;1 1 1]\n",
        "blurConv = conv2(blurK,redIm);\n",
        "imshow(blurConv,[]);"
      ],
      "metadata": {
        "id": "a9EM-Uk8qn64"
      },
      "execution_count": null,
      "outputs": []
    },
    {
      "cell_type": "markdown",
      "source": [
        "Save the edge-detecting kernel in a matrix named edgeK. Then use this kernel to find and display edges in redIm.\n",
        "\n",
        "Name the convolved image edgeConv. When displaying, use empty brackets as the second input to imshow."
      ],
      "metadata": {
        "id": "nPN3MzYFrM0D"
      }
    },
    {
      "cell_type": "code",
      "source": [
        "edgeK = [0 1 0;1 -4 1;0 1 0]\n",
        "edgeConv = conv2(edgeK,redIm);\n",
        "imshow(edgeConv,[]);"
      ],
      "metadata": {
        "id": "TTHE9J_WrNDY"
      },
      "execution_count": null,
      "outputs": []
    }
  ]
}